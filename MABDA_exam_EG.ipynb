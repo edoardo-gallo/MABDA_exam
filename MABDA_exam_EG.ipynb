{
 "cells": [
  {
   "cell_type": "markdown",
   "metadata": {
    "cell_id": "9d5486c9-c193-4b01-acfa-6d534ad9e3b9",
    "tags": []
   },
   "source": [
    "# Mabda 2020 Exam, by Edoardo Gallo\n",
    "\n",
    "This exam is a ** REGRESSION** problem. It asks you to predict the *SP500 monthly return rate* based on a set of indicators that can be: monthly stock prices indexex for the major world Economies (UK, EA, GER, IT, FR, JP, CA), financial market indicators (taken from Goyal and Welch) and macroeconomic indicators.\n",
    "\n",
    "The *SP500 monthly return rate* are recorded in the dataset as **CRSP_SPvw**.\n",
    "\n",
    "The financial market indicators from **Goyal and Welch** contains key variables related to the most important stock market features over time.\n",
    "\n",
    "Extra information about the Goyal and Welch variables can be find at the following link: http://www.hec.unil.ch/agoyal/docs/Predictability_RFS.pdf\n",
    "\n",
    "Extra information about the macroeconomic series and the meaning of their ticker can be found at the following link: https://s3.amazonaws.com/files.fred.stlouisfed.org/fred-md/Appendix_Tables_Update.pdf\n",
    "\n",
    "The *timeseries_train.csv* dataset contains all these 3 groups of monthly variables from January 1970 to December 2009. All the variables have already been properly **stationarized**. The target variables (y) is the *SP500 monthly return rate (CRSP_SPvw)* while all the other variables are the predictors (X).\n",
    "\n",
    "You need to use such predictors to train your algorithms in predicting the target variable.\n",
    "\n",
    "The * timeseries_test.csv* dataset contains information **ONLY** about these 3 groups of monthly variables from January 2010 to March 2020. You do not have information about the *SP500 monthly return rate (CRSP_SPvw)* (target or y).\n",
    "\n",
    "Following the steps below, you are required to use the *timeseries_train.csv* dataset to train your algorithms, select the best one with its hypeparameters properly calibrated and then apply such model to the *timeseries_test.csv* in order to predict the *SP500 monthly return rate*\n",
    "\n",
    "### A) Upload, Clean and Manipulate the data.\n",
    "\n",
    "1. Import all the necessary packages and functions you will need to perform the exercise\n",
    "\n",
    "2. Import the dataset using the pd.read_csv() command. (Hint: remeber to specify the separator.)\n",
    "\n",
    "3. Compute the percentage of NaN for each column and drop the columns that have less than 10years of observations, hence less than 120 NaN.\n",
    "\n",
    "4. Create a list which contains all the names of the columns with at least one NaN value. (Hint: % bigger than zero, use command .loc()).\n",
    "\n",
    "5. Fill the NaN using the median or the mean for each variable. If there are NaN at the end of the sample you can fill them using the .ffill(), which fills the NaN using the last available data point.\n",
    "\n",
    "6. Check the type of the variables, dividing them among: Categorical, Dummy and Numerical. (Hint: use : select_dtypes(include=[type to include]).\n",
    "\n",
    "7. Separate the dates from the dataset (they will be helpful to plot the charts), separate the target *SP500 monthly return rate (CRSP_SPvw)* (y) from the dataset.\n",
    "\n",
    "8. Are there any Categorical variables? If yes, separate them from the Numerical.\n",
    "\n",
    "9. Define the matrix of the predictors (X) using only the numerical variables inside the dataset.\n",
    "\n",
    "10. Standardize only the predictors. (X)\n",
    "\n",
    "11. If the answer to point A.8 is yes, transfor the Categorical vairbales in Dummy Variables and include them into the dataset. ( hint: use drop_first = true)\n",
    "\n",
    "12. Compute the correlation of the new dataset and show the top 10 variables correlated with the target, **SP500 monthly return rate (CRSP_SPvw)**.\n",
    "\n",
    "13. Separate the dates from the dataset (they will be helpful to plot the charts), separate the target *SP500 monthly return rate (CRSP_SPvw)* (y) from the dataset, and create the dataframe of the predictors. (X)\n",
    "\n",
    "*Extra*: The dataset is quite big, but if you want to show some chart about the data, feel free to do it, sometimes visualize the data can help. You can produce different line plot between the target (SP500 monthly return rate) versus other variable to see if there are some commonalities among the data. (NOTE: the scale of the variables may be different, hence remember to standardize them before create such plots). \n",
    "\n",
    "\n",
    "\n",
    "### B) Fit and Estimate the models using a proper cross-validation exercise.\n",
    "\n",
    "1. Split the X and the y obtained in the step above (A.8) into only: training and test sample. The size of the test needs to be = 0.15 use a random_state = 90.\n",
    "\n",
    "2. Describe which models are you going to fit starting from the simplest to the most complicated. Explain why you have decided to use such models, which are their hyperparameters that need to be calibrated and which kind of cross-validation are you planning to use. To compare the different models during the training use as metric the ** negative mean squared error **. (Hint: in GridSearchCV the scoring needs to be = “neg_mean_squared_error”)\n",
    "\n",
    "3. Create a section for each model you are going to fit. The models have to be fit sequentially and you need to do the following for EACH model you are going to use:\n",
    "    1. Specify the function of the model you are going to use. (Hint: if the model has a random_state option, i.e. random forest, set it = 90)\n",
    "    2. Specify a dictionary that contains the list of parameters you are going to cross-validate and the grid on which you intend to cross-validate them\n",
    "    3. Specify the cross-validation function, GridSearchCV with all its option. The number of cv needs to be at least 5, maximum 10. – Remember to specify return_train_score = True. (HINT: You can build your own cross-validation function, but remebr that you are in a time-series framework hence the blocks should be sequential not random. Otherwise, you can use the function TimeSeriesSplit(n_splits = #num) and use that as input for the “cv” option inside the GridSearchCV function. \n",
    "    4. Fit the model using the training data. Print the value of the best hyperparameters of the model fitted. (**REMEMBER**: This is a time series exercise, hence you need to predict the one-step ahead value of the *CRSP_SPvw*, hence rememebr when you fit the model and also when you predict it to use the X (predictors), from 0 to end-1, and the y (target) from 1 to end.)\n",
    "    5. Compute the TEST performances (using the test sample) using the mean squared error and the absolute mean squared error as metrics. Comment on these results. How are they in general? \n",
    "    6. Plot the y_hat_test_insample obtained from the model on the test data versus the real y_test. Does the model capture turning points?\n",
    "\n",
    "\n",
    "**EXTRA 1**: If you fit a penalized logistic regression plot the evolution of both the training and test negative log loss with respect to the hyperparameter $\\lambda$ (which is alpha in Python).\n",
    "\n",
    "\n",
    "**EXTRA 2**: If you are not satisfied with the performances of the model, how could you improve them? \n",
    "Propose a solution and try to implement it in Python. (Hint: you can use PolynomialFeatures to add interactions among the variables, maybe among the most correlated one, or you can create new variables by adding different interactions among them (ratios or others).\n",
    "\n",
    "### C) BEST MODEL SELECTION.\n",
    "\n",
    "1. Compare all the TEST results for each model you have fitted and select the best model with its own best hyperparameters specification. Why this model is preferred than the others? What could be your intuition?\n",
    "\n",
    "2. Load the *timeseries_test.csv* data, using the best model you have found above with its best hyperparameters (you don’t have to do any cross-validation exercise) produce the prediction for the target (call it **y_hat**)\n",
    "\n",
    "3. Plot the y_hat you have produced.\n",
    "\n",
    "4. Assuming you invested 1£ in the SP500 at the beginning of your test set, by applying the SP500 monthly return you have predicted, y_hat, what would be your predicted total return during the test period (from January 2010 to March 2020)?\n"
   ]
  },
  {
   "cell_type": "markdown",
   "metadata": {},
   "source": [
    "PEOBLEMS: B)3.D- 3.E"
   ]
  },
  {
   "cell_type": "code",
   "execution_count": 1,
   "metadata": {
    "cell_id": "dd48ef3d-e5f2-4e8e-bea6-76add7e7f543",
    "tags": []
   },
   "outputs": [
    {
     "name": "stderr",
     "output_type": "stream",
     "text": [
      "Using TensorFlow backend.\n",
      "C:\\Users\\GP_HP\\anaconda3\\lib\\site-packages\\tensorflow\\python\\framework\\dtypes.py:516: FutureWarning: Passing (type, 1) or '1type' as a synonym of type is deprecated; in a future version of numpy, it will be understood as (type, (1,)) / '(1,)type'.\n",
      "  _np_qint8 = np.dtype([(\"qint8\", np.int8, 1)])\n",
      "C:\\Users\\GP_HP\\anaconda3\\lib\\site-packages\\tensorflow\\python\\framework\\dtypes.py:517: FutureWarning: Passing (type, 1) or '1type' as a synonym of type is deprecated; in a future version of numpy, it will be understood as (type, (1,)) / '(1,)type'.\n",
      "  _np_quint8 = np.dtype([(\"quint8\", np.uint8, 1)])\n",
      "C:\\Users\\GP_HP\\anaconda3\\lib\\site-packages\\tensorflow\\python\\framework\\dtypes.py:518: FutureWarning: Passing (type, 1) or '1type' as a synonym of type is deprecated; in a future version of numpy, it will be understood as (type, (1,)) / '(1,)type'.\n",
      "  _np_qint16 = np.dtype([(\"qint16\", np.int16, 1)])\n",
      "C:\\Users\\GP_HP\\anaconda3\\lib\\site-packages\\tensorflow\\python\\framework\\dtypes.py:519: FutureWarning: Passing (type, 1) or '1type' as a synonym of type is deprecated; in a future version of numpy, it will be understood as (type, (1,)) / '(1,)type'.\n",
      "  _np_quint16 = np.dtype([(\"quint16\", np.uint16, 1)])\n",
      "C:\\Users\\GP_HP\\anaconda3\\lib\\site-packages\\tensorflow\\python\\framework\\dtypes.py:520: FutureWarning: Passing (type, 1) or '1type' as a synonym of type is deprecated; in a future version of numpy, it will be understood as (type, (1,)) / '(1,)type'.\n",
      "  _np_qint32 = np.dtype([(\"qint32\", np.int32, 1)])\n",
      "C:\\Users\\GP_HP\\anaconda3\\lib\\site-packages\\tensorflow\\python\\framework\\dtypes.py:525: FutureWarning: Passing (type, 1) or '1type' as a synonym of type is deprecated; in a future version of numpy, it will be understood as (type, (1,)) / '(1,)type'.\n",
      "  np_resource = np.dtype([(\"resource\", np.ubyte, 1)])\n",
      "C:\\Users\\GP_HP\\anaconda3\\lib\\site-packages\\tensorboard\\compat\\tensorflow_stub\\dtypes.py:541: FutureWarning: Passing (type, 1) or '1type' as a synonym of type is deprecated; in a future version of numpy, it will be understood as (type, (1,)) / '(1,)type'.\n",
      "  _np_qint8 = np.dtype([(\"qint8\", np.int8, 1)])\n",
      "C:\\Users\\GP_HP\\anaconda3\\lib\\site-packages\\tensorboard\\compat\\tensorflow_stub\\dtypes.py:542: FutureWarning: Passing (type, 1) or '1type' as a synonym of type is deprecated; in a future version of numpy, it will be understood as (type, (1,)) / '(1,)type'.\n",
      "  _np_quint8 = np.dtype([(\"quint8\", np.uint8, 1)])\n",
      "C:\\Users\\GP_HP\\anaconda3\\lib\\site-packages\\tensorboard\\compat\\tensorflow_stub\\dtypes.py:543: FutureWarning: Passing (type, 1) or '1type' as a synonym of type is deprecated; in a future version of numpy, it will be understood as (type, (1,)) / '(1,)type'.\n",
      "  _np_qint16 = np.dtype([(\"qint16\", np.int16, 1)])\n",
      "C:\\Users\\GP_HP\\anaconda3\\lib\\site-packages\\tensorboard\\compat\\tensorflow_stub\\dtypes.py:544: FutureWarning: Passing (type, 1) or '1type' as a synonym of type is deprecated; in a future version of numpy, it will be understood as (type, (1,)) / '(1,)type'.\n",
      "  _np_quint16 = np.dtype([(\"quint16\", np.uint16, 1)])\n",
      "C:\\Users\\GP_HP\\anaconda3\\lib\\site-packages\\tensorboard\\compat\\tensorflow_stub\\dtypes.py:545: FutureWarning: Passing (type, 1) or '1type' as a synonym of type is deprecated; in a future version of numpy, it will be understood as (type, (1,)) / '(1,)type'.\n",
      "  _np_qint32 = np.dtype([(\"qint32\", np.int32, 1)])\n",
      "C:\\Users\\GP_HP\\anaconda3\\lib\\site-packages\\tensorboard\\compat\\tensorflow_stub\\dtypes.py:550: FutureWarning: Passing (type, 1) or '1type' as a synonym of type is deprecated; in a future version of numpy, it will be understood as (type, (1,)) / '(1,)type'.\n",
      "  np_resource = np.dtype([(\"resource\", np.ubyte, 1)])\n"
     ]
    }
   ],
   "source": [
    "import pandas as pd\n",
    "import numpy as np\n",
    "from sklearn.model_selection import TimeSeriesSplit\n",
    "from sklearn.metrics import mean_absolute_error\n",
    "from sklearn.preprocessing import StandardScaler\n",
    "from sklearn.metrics import mean_squared_error\n",
    "import keras\n",
    "import tensorflow\n",
    "from keras import utils\n",
    "from keras.models import Sequential\n",
    "from keras.layers import Dense, Dropout\n",
    "from keras.optimizers import Adam\n",
    "from sklearn.ensemble import RandomForestRegressor\n",
    "from sklearn.tree import DecisionTreeRegressor\n",
    "from sklearn.preprocessing import PolynomialFeatures\n",
    "from sklearn.linear_model import ElasticNet\n",
    "from sklearn.linear_model import Lasso, Ridge\n",
    "from sklearn.model_selection import GridSearchCV\n",
    "import matplotlib.pyplot as plt"
   ]
  },
  {
   "cell_type": "markdown",
   "metadata": {
    "cell_id": "91842e15-c477-4f69-a0e6-52e546e30860",
    "tags": []
   },
   "source": [
    "## A.2 : Data"
   ]
  },
  {
   "cell_type": "code",
   "execution_count": 2,
   "metadata": {
    "cell_id": "005d40cf-0ca7-4d08-be16-a0096adc7ecb"
   },
   "outputs": [
    {
     "data": {
      "text/html": [
       "<div>\n",
       "<style scoped>\n",
       "    .dataframe tbody tr th:only-of-type {\n",
       "        vertical-align: middle;\n",
       "    }\n",
       "\n",
       "    .dataframe tbody tr th {\n",
       "        vertical-align: top;\n",
       "    }\n",
       "\n",
       "    .dataframe thead th {\n",
       "        text-align: right;\n",
       "    }\n",
       "</style>\n",
       "<table border=\"1\" class=\"dataframe\">\n",
       "  <thead>\n",
       "    <tr style=\"text-align: right;\">\n",
       "      <th></th>\n",
       "      <th>dates</th>\n",
       "      <th>D12</th>\n",
       "      <th>E12</th>\n",
       "      <th>b/m</th>\n",
       "      <th>tbl</th>\n",
       "      <th>AAA</th>\n",
       "      <th>BAA</th>\n",
       "      <th>lty</th>\n",
       "      <th>ntis</th>\n",
       "      <th>Rfree</th>\n",
       "      <th>...</th>\n",
       "      <th>France: Paris Stock Market: Price Index: CAC 40 (AVG, Dec-31-87=1000)</th>\n",
       "      <th>Germany: Stock Market Indexes: DAX Performance Index (AVG, Dec-30-87=1000)</th>\n",
       "      <th>Germany: Deutsche Boerse Market Capitalization (EOP, Mil.Euros)</th>\n",
       "      <th>Italy: Stock Price Index: FTSE MIB (AVG, Dec-31-97=24401.54)</th>\n",
       "      <th>Italy: Borsa Italiana Market Capitalization (EOP, Mil.EUR)</th>\n",
       "      <th>Japan: Nikkei Stock Average: TSE 225 Issues (AVG, May-16-49=100)</th>\n",
       "      <th>Japan: 1st Tokyo Stock Exchange: Market Capitalization (EOP, Bil.Yen)</th>\n",
       "      <th>U.K.: London Stock Exchange: FTSE 100 (EOP, Jan-2-84=1000)</th>\n",
       "      <th>UK: London Stock Exchange Market Capitalization (EOP, Mil.EUR)</th>\n",
       "      <th>CRSP_SPvw</th>\n",
       "    </tr>\n",
       "  </thead>\n",
       "  <tbody>\n",
       "    <tr>\n",
       "      <th>0</th>\n",
       "      <td>31/01/70</td>\n",
       "      <td>NaN</td>\n",
       "      <td>NaN</td>\n",
       "      <td>0.700347</td>\n",
       "      <td>NaN</td>\n",
       "      <td>NaN</td>\n",
       "      <td>NaN</td>\n",
       "      <td>NaN</td>\n",
       "      <td>0.034473</td>\n",
       "      <td>NaN</td>\n",
       "      <td>...</td>\n",
       "      <td>NaN</td>\n",
       "      <td>NaN</td>\n",
       "      <td>NaN</td>\n",
       "      <td>NaN</td>\n",
       "      <td>NaN</td>\n",
       "      <td>NaN</td>\n",
       "      <td>NaN</td>\n",
       "      <td>NaN</td>\n",
       "      <td>NaN</td>\n",
       "      <td>-0.075398</td>\n",
       "    </tr>\n",
       "    <tr>\n",
       "      <th>1</th>\n",
       "      <td>28/02/70</td>\n",
       "      <td>0.1055</td>\n",
       "      <td>-0.8764</td>\n",
       "      <td>0.670148</td>\n",
       "      <td>0.0005</td>\n",
       "      <td>0.0002</td>\n",
       "      <td>-0.0008</td>\n",
       "      <td>-0.0042</td>\n",
       "      <td>0.035855</td>\n",
       "      <td>-0.000617</td>\n",
       "      <td>...</td>\n",
       "      <td>NaN</td>\n",
       "      <td>NaN</td>\n",
       "      <td>NaN</td>\n",
       "      <td>NaN</td>\n",
       "      <td>NaN</td>\n",
       "      <td>-0.052014</td>\n",
       "      <td>3.491356</td>\n",
       "      <td>NaN</td>\n",
       "      <td>NaN</td>\n",
       "      <td>0.059521</td>\n",
       "    </tr>\n",
       "    <tr>\n",
       "      <th>2</th>\n",
       "      <td>31/03/70</td>\n",
       "      <td>0.1051</td>\n",
       "      <td>-0.8842</td>\n",
       "      <td>0.690327</td>\n",
       "      <td>-0.0074</td>\n",
       "      <td>-0.0009</td>\n",
       "      <td>-0.0015</td>\n",
       "      <td>0.0010</td>\n",
       "      <td>0.035842</td>\n",
       "      <td>-0.000417</td>\n",
       "      <td>...</td>\n",
       "      <td>NaN</td>\n",
       "      <td>NaN</td>\n",
       "      <td>NaN</td>\n",
       "      <td>NaN</td>\n",
       "      <td>NaN</td>\n",
       "      <td>5.830915</td>\n",
       "      <td>4.877206</td>\n",
       "      <td>NaN</td>\n",
       "      <td>NaN</td>\n",
       "      <td>0.002806</td>\n",
       "    </tr>\n",
       "    <tr>\n",
       "      <th>3</th>\n",
       "      <td>30/04/70</td>\n",
       "      <td>0.1050</td>\n",
       "      <td>-0.6535</td>\n",
       "      <td>0.736751</td>\n",
       "      <td>-0.0050</td>\n",
       "      <td>-0.0001</td>\n",
       "      <td>0.0007</td>\n",
       "      <td>0.0038</td>\n",
       "      <td>0.035712</td>\n",
       "      <td>-0.000100</td>\n",
       "      <td>...</td>\n",
       "      <td>NaN</td>\n",
       "      <td>NaN</td>\n",
       "      <td>NaN</td>\n",
       "      <td>NaN</td>\n",
       "      <td>NaN</td>\n",
       "      <td>-0.186356</td>\n",
       "      <td>-14.638008</td>\n",
       "      <td>NaN</td>\n",
       "      <td>NaN</td>\n",
       "      <td>-0.088831</td>\n",
       "    </tr>\n",
       "    <tr>\n",
       "      <th>4</th>\n",
       "      <td>31/05/70</td>\n",
       "      <td>0.1052</td>\n",
       "      <td>-0.6576</td>\n",
       "      <td>0.774228</td>\n",
       "      <td>-0.0012</td>\n",
       "      <td>0.0028</td>\n",
       "      <td>0.0028</td>\n",
       "      <td>0.0044</td>\n",
       "      <td>0.038661</td>\n",
       "      <td>0.000275</td>\n",
       "      <td>...</td>\n",
       "      <td>NaN</td>\n",
       "      <td>NaN</td>\n",
       "      <td>NaN</td>\n",
       "      <td>NaN</td>\n",
       "      <td>NaN</td>\n",
       "      <td>-17.819392</td>\n",
       "      <td>-1.173458</td>\n",
       "      <td>NaN</td>\n",
       "      <td>NaN</td>\n",
       "      <td>-0.054689</td>\n",
       "    </tr>\n",
       "    <tr>\n",
       "      <th>...</th>\n",
       "      <td>...</td>\n",
       "      <td>...</td>\n",
       "      <td>...</td>\n",
       "      <td>...</td>\n",
       "      <td>...</td>\n",
       "      <td>...</td>\n",
       "      <td>...</td>\n",
       "      <td>...</td>\n",
       "      <td>...</td>\n",
       "      <td>...</td>\n",
       "      <td>...</td>\n",
       "      <td>...</td>\n",
       "      <td>...</td>\n",
       "      <td>...</td>\n",
       "      <td>...</td>\n",
       "      <td>...</td>\n",
       "      <td>...</td>\n",
       "      <td>...</td>\n",
       "      <td>...</td>\n",
       "      <td>...</td>\n",
       "      <td>...</td>\n",
       "    </tr>\n",
       "    <tr>\n",
       "      <th>475</th>\n",
       "      <td>31/08/09</td>\n",
       "      <td>-2.2805</td>\n",
       "      <td>16.7640</td>\n",
       "      <td>0.237594</td>\n",
       "      <td>0.0000</td>\n",
       "      <td>-0.0015</td>\n",
       "      <td>-0.0051</td>\n",
       "      <td>-0.0015</td>\n",
       "      <td>-0.008173</td>\n",
       "      <td>-0.000008</td>\n",
       "      <td>...</td>\n",
       "      <td>9.720526</td>\n",
       "      <td>8.620088</td>\n",
       "      <td>-0.412412</td>\n",
       "      <td>11.448841</td>\n",
       "      <td>6.690895</td>\n",
       "      <td>7.350982</td>\n",
       "      <td>1.740772</td>\n",
       "      <td>6.316916</td>\n",
       "      <td>4.972421</td>\n",
       "      <td>0.034751</td>\n",
       "    </tr>\n",
       "    <tr>\n",
       "      <th>476</th>\n",
       "      <td>30/09/09</td>\n",
       "      <td>-2.3337</td>\n",
       "      <td>14.3530</td>\n",
       "      <td>0.232310</td>\n",
       "      <td>-0.0001</td>\n",
       "      <td>-0.0013</td>\n",
       "      <td>-0.0027</td>\n",
       "      <td>-0.0012</td>\n",
       "      <td>-0.000063</td>\n",
       "      <td>-0.000042</td>\n",
       "      <td>...</td>\n",
       "      <td>5.304972</td>\n",
       "      <td>3.439032</td>\n",
       "      <td>3.729266</td>\n",
       "      <td>5.691791</td>\n",
       "      <td>4.732059</td>\n",
       "      <td>-1.229733</td>\n",
       "      <td>-5.469457</td>\n",
       "      <td>4.481572</td>\n",
       "      <td>1.638849</td>\n",
       "      <td>0.036534</td>\n",
       "    </tr>\n",
       "    <tr>\n",
       "      <th>477</th>\n",
       "      <td>31/10/09</td>\n",
       "      <td>-2.1085</td>\n",
       "      <td>70.3855</td>\n",
       "      <td>0.232299</td>\n",
       "      <td>-0.0005</td>\n",
       "      <td>0.0002</td>\n",
       "      <td>-0.0002</td>\n",
       "      <td>0.0017</td>\n",
       "      <td>0.003146</td>\n",
       "      <td>-0.000042</td>\n",
       "      <td>...</td>\n",
       "      <td>1.258146</td>\n",
       "      <td>1.705828</td>\n",
       "      <td>-4.673914</td>\n",
       "      <td>2.451208</td>\n",
       "      <td>-4.411161</td>\n",
       "      <td>-2.323525</td>\n",
       "      <td>-1.204183</td>\n",
       "      <td>-1.754724</td>\n",
       "      <td>-1.057252</td>\n",
       "      <td>-0.018259</td>\n",
       "    </tr>\n",
       "    <tr>\n",
       "      <th>478</th>\n",
       "      <td>30/11/09</td>\n",
       "      <td>-2.1539</td>\n",
       "      <td>40.9009</td>\n",
       "      <td>0.218105</td>\n",
       "      <td>-0.0005</td>\n",
       "      <td>0.0004</td>\n",
       "      <td>0.0003</td>\n",
       "      <td>-0.0014</td>\n",
       "      <td>0.007464</td>\n",
       "      <td>-0.000017</td>\n",
       "      <td>...</td>\n",
       "      <td>-0.724043</td>\n",
       "      <td>-0.669130</td>\n",
       "      <td>2.764711</td>\n",
       "      <td>-3.207440</td>\n",
       "      <td>-2.112982</td>\n",
       "      <td>-4.316345</td>\n",
       "      <td>-6.312860</td>\n",
       "      <td>2.855020</td>\n",
       "      <td>0.632146</td>\n",
       "      <td>0.060257</td>\n",
       "    </tr>\n",
       "    <tr>\n",
       "      <th>479</th>\n",
       "      <td>31/12/09</td>\n",
       "      <td>-2.2013</td>\n",
       "      <td>28.9449</td>\n",
       "      <td>0.216365</td>\n",
       "      <td>-0.0002</td>\n",
       "      <td>0.0007</td>\n",
       "      <td>0.0005</td>\n",
       "      <td>0.0052</td>\n",
       "      <td>0.010534</td>\n",
       "      <td>0.000000</td>\n",
       "      <td>...</td>\n",
       "      <td>2.606998</td>\n",
       "      <td>3.387290</td>\n",
       "      <td>5.266103</td>\n",
       "      <td>-0.005099</td>\n",
       "      <td>4.787820</td>\n",
       "      <td>5.332106</td>\n",
       "      <td>8.347039</td>\n",
       "      <td>4.191643</td>\n",
       "      <td>6.603823</td>\n",
       "      <td>0.018983</td>\n",
       "    </tr>\n",
       "  </tbody>\n",
       "</table>\n",
       "<p>480 rows × 163 columns</p>\n",
       "</div>"
      ],
      "text/plain": [
       "        dates     D12      E12       b/m     tbl     AAA     BAA     lty  \\\n",
       "0    31/01/70     NaN      NaN  0.700347     NaN     NaN     NaN     NaN   \n",
       "1    28/02/70  0.1055  -0.8764  0.670148  0.0005  0.0002 -0.0008 -0.0042   \n",
       "2    31/03/70  0.1051  -0.8842  0.690327 -0.0074 -0.0009 -0.0015  0.0010   \n",
       "3    30/04/70  0.1050  -0.6535  0.736751 -0.0050 -0.0001  0.0007  0.0038   \n",
       "4    31/05/70  0.1052  -0.6576  0.774228 -0.0012  0.0028  0.0028  0.0044   \n",
       "..        ...     ...      ...       ...     ...     ...     ...     ...   \n",
       "475  31/08/09 -2.2805  16.7640  0.237594  0.0000 -0.0015 -0.0051 -0.0015   \n",
       "476  30/09/09 -2.3337  14.3530  0.232310 -0.0001 -0.0013 -0.0027 -0.0012   \n",
       "477  31/10/09 -2.1085  70.3855  0.232299 -0.0005  0.0002 -0.0002  0.0017   \n",
       "478  30/11/09 -2.1539  40.9009  0.218105 -0.0005  0.0004  0.0003 -0.0014   \n",
       "479  31/12/09 -2.2013  28.9449  0.216365 -0.0002  0.0007  0.0005  0.0052   \n",
       "\n",
       "         ntis     Rfree  ...  \\\n",
       "0    0.034473       NaN  ...   \n",
       "1    0.035855 -0.000617  ...   \n",
       "2    0.035842 -0.000417  ...   \n",
       "3    0.035712 -0.000100  ...   \n",
       "4    0.038661  0.000275  ...   \n",
       "..        ...       ...  ...   \n",
       "475 -0.008173 -0.000008  ...   \n",
       "476 -0.000063 -0.000042  ...   \n",
       "477  0.003146 -0.000042  ...   \n",
       "478  0.007464 -0.000017  ...   \n",
       "479  0.010534  0.000000  ...   \n",
       "\n",
       "     France: Paris Stock Market: Price Index: CAC 40 (AVG, Dec-31-87=1000)  \\\n",
       "0                                                  NaN                       \n",
       "1                                                  NaN                       \n",
       "2                                                  NaN                       \n",
       "3                                                  NaN                       \n",
       "4                                                  NaN                       \n",
       "..                                                 ...                       \n",
       "475                                           9.720526                       \n",
       "476                                           5.304972                       \n",
       "477                                           1.258146                       \n",
       "478                                          -0.724043                       \n",
       "479                                           2.606998                       \n",
       "\n",
       "     Germany: Stock Market Indexes: DAX Performance Index (AVG, Dec-30-87=1000)  \\\n",
       "0                                                  NaN                            \n",
       "1                                                  NaN                            \n",
       "2                                                  NaN                            \n",
       "3                                                  NaN                            \n",
       "4                                                  NaN                            \n",
       "..                                                 ...                            \n",
       "475                                           8.620088                            \n",
       "476                                           3.439032                            \n",
       "477                                           1.705828                            \n",
       "478                                          -0.669130                            \n",
       "479                                           3.387290                            \n",
       "\n",
       "     Germany: Deutsche Boerse Market Capitalization (EOP, Mil.Euros)  \\\n",
       "0                                                  NaN                 \n",
       "1                                                  NaN                 \n",
       "2                                                  NaN                 \n",
       "3                                                  NaN                 \n",
       "4                                                  NaN                 \n",
       "..                                                 ...                 \n",
       "475                                          -0.412412                 \n",
       "476                                           3.729266                 \n",
       "477                                          -4.673914                 \n",
       "478                                           2.764711                 \n",
       "479                                           5.266103                 \n",
       "\n",
       "     Italy: Stock Price Index: FTSE MIB (AVG, Dec-31-97=24401.54)  \\\n",
       "0                                                  NaN              \n",
       "1                                                  NaN              \n",
       "2                                                  NaN              \n",
       "3                                                  NaN              \n",
       "4                                                  NaN              \n",
       "..                                                 ...              \n",
       "475                                          11.448841              \n",
       "476                                           5.691791              \n",
       "477                                           2.451208              \n",
       "478                                          -3.207440              \n",
       "479                                          -0.005099              \n",
       "\n",
       "     Italy: Borsa Italiana Market Capitalization (EOP, Mil.EUR)  \\\n",
       "0                                                  NaN            \n",
       "1                                                  NaN            \n",
       "2                                                  NaN            \n",
       "3                                                  NaN            \n",
       "4                                                  NaN            \n",
       "..                                                 ...            \n",
       "475                                           6.690895            \n",
       "476                                           4.732059            \n",
       "477                                          -4.411161            \n",
       "478                                          -2.112982            \n",
       "479                                           4.787820            \n",
       "\n",
       "     Japan: Nikkei Stock Average: TSE 225 Issues (AVG, May-16-49=100)  \\\n",
       "0                                                  NaN                  \n",
       "1                                            -0.052014                  \n",
       "2                                             5.830915                  \n",
       "3                                            -0.186356                  \n",
       "4                                           -17.819392                  \n",
       "..                                                 ...                  \n",
       "475                                           7.350982                  \n",
       "476                                          -1.229733                  \n",
       "477                                          -2.323525                  \n",
       "478                                          -4.316345                  \n",
       "479                                           5.332106                  \n",
       "\n",
       "     Japan: 1st Tokyo Stock Exchange: Market Capitalization (EOP, Bil.Yen)  \\\n",
       "0                                                  NaN                       \n",
       "1                                             3.491356                       \n",
       "2                                             4.877206                       \n",
       "3                                           -14.638008                       \n",
       "4                                            -1.173458                       \n",
       "..                                                 ...                       \n",
       "475                                           1.740772                       \n",
       "476                                          -5.469457                       \n",
       "477                                          -1.204183                       \n",
       "478                                          -6.312860                       \n",
       "479                                           8.347039                       \n",
       "\n",
       "     U.K.: London Stock Exchange: FTSE 100 (EOP, Jan-2-84=1000)  \\\n",
       "0                                                  NaN            \n",
       "1                                                  NaN            \n",
       "2                                                  NaN            \n",
       "3                                                  NaN            \n",
       "4                                                  NaN            \n",
       "..                                                 ...            \n",
       "475                                           6.316916            \n",
       "476                                           4.481572            \n",
       "477                                          -1.754724            \n",
       "478                                           2.855020            \n",
       "479                                           4.191643            \n",
       "\n",
       "     UK: London Stock Exchange Market Capitalization (EOP, Mil.EUR)  CRSP_SPvw  \n",
       "0                                                  NaN               -0.075398  \n",
       "1                                                  NaN                0.059521  \n",
       "2                                                  NaN                0.002806  \n",
       "3                                                  NaN               -0.088831  \n",
       "4                                                  NaN               -0.054689  \n",
       "..                                                 ...                     ...  \n",
       "475                                           4.972421                0.034751  \n",
       "476                                           1.638849                0.036534  \n",
       "477                                          -1.057252               -0.018259  \n",
       "478                                           0.632146                0.060257  \n",
       "479                                           6.603823                0.018983  \n",
       "\n",
       "[480 rows x 163 columns]"
      ]
     },
     "execution_count": 2,
     "metadata": {},
     "output_type": "execute_result"
    }
   ],
   "source": [
    "data = pd.read_csv(\"timeseries_train.csv\", sep = \";\")\n",
    "data"
   ]
  },
  {
   "cell_type": "markdown",
   "metadata": {
    "cell_id": "2a352432-6448-4cc7-94f3-b467b41745f4",
    "tags": []
   },
   "source": [
    "## A.3: dropping columns"
   ]
  },
  {
   "cell_type": "code",
   "execution_count": 3,
   "metadata": {
    "cell_id": "d91cbeab-e7f2-449c-8d8b-0f4e577d2f0b",
    "tags": []
   },
   "outputs": [
    {
     "data": {
      "text/plain": [
       "Index(['ACOGNO', 'Canada: TSX Group Market Capitalization (EOP, Mil.C$)',\n",
       "       'EU 27: MSCI Share Price Index ex Div, LocCur (NSA, EOP, Dec-87=100)',\n",
       "       'France: Paris Stock Market: Price Index: CAC 40 (AVG, Dec-31-87=1000)',\n",
       "       'Germany: Stock Market Indexes: DAX Performance Index (AVG, Dec-30-87=1000)',\n",
       "       'Germany: Deutsche Boerse Market Capitalization (EOP, Mil.Euros)',\n",
       "       'Italy: Stock Price Index: FTSE MIB (AVG, Dec-31-97=24401.54)',\n",
       "       'Italy: Borsa Italiana Market Capitalization (EOP, Mil.EUR)',\n",
       "       'U.K.: London Stock Exchange: FTSE 100 (EOP, Jan-2-84=1000)',\n",
       "       'UK: London Stock Exchange Market Capitalization (EOP, Mil.EUR)'],\n",
       "      dtype='object')"
      ]
     },
     "execution_count": 3,
     "metadata": {},
     "output_type": "execute_result"
    }
   ],
   "source": [
    "# selecting the columns with less than 10 years observations(more than 120 Nans)\n",
    "columns_to_drop = data.loc[:, np.sum(data.isnull()) > 120].columns\n",
    "columns_to_drop"
   ]
  },
  {
   "cell_type": "code",
   "execution_count": 4,
   "metadata": {
    "cell_id": "d5a92bc6-778f-402c-b12a-04617bcc154f",
    "tags": []
   },
   "outputs": [
    {
     "name": "stdout",
     "output_type": "stream",
     "text": [
      "dimension before dropping: (480, 163)\n",
      "dimension after dropping: (480, 153)\n"
     ]
    }
   ],
   "source": [
    "#dropping the columns\n",
    "print(\"dimension before dropping: {}\".format(data.shape))\n",
    "data = data.drop(columns_to_drop, axis = 1) \n",
    "print(\"dimension after dropping: {}\".format(data.shape))\n"
   ]
  },
  {
   "cell_type": "code",
   "execution_count": 5,
   "metadata": {},
   "outputs": [],
   "source": [
    "# I drop this column too, since in the test set has all nan values\n",
    "data.drop('csp', axis = 1, inplace = True)"
   ]
  },
  {
   "cell_type": "code",
   "execution_count": 6,
   "metadata": {},
   "outputs": [
    {
     "name": "stdout",
     "output_type": "stream",
     "text": [
      "dimension after dropping: (480, 152)\n"
     ]
    }
   ],
   "source": [
    "print(\"dimension after dropping: {}\".format(data.shape))"
   ]
  },
  {
   "cell_type": "markdown",
   "metadata": {
    "cell_id": "6eb3ca9c-0c7e-4486-af07-682b3d415ec6",
    "tags": []
   },
   "source": [
    "## A.4"
   ]
  },
  {
   "cell_type": "code",
   "execution_count": 7,
   "metadata": {
    "cell_id": "34541e20-f345-451e-ac44-55ce946495fa",
    "tags": []
   },
   "outputs": [
    {
     "data": {
      "text/html": [
       "<div>\n",
       "<style scoped>\n",
       "    .dataframe tbody tr th:only-of-type {\n",
       "        vertical-align: middle;\n",
       "    }\n",
       "\n",
       "    .dataframe tbody tr th {\n",
       "        vertical-align: top;\n",
       "    }\n",
       "\n",
       "    .dataframe thead th {\n",
       "        text-align: right;\n",
       "    }\n",
       "</style>\n",
       "<table border=\"1\" class=\"dataframe\">\n",
       "  <thead>\n",
       "    <tr style=\"text-align: right;\">\n",
       "      <th></th>\n",
       "      <th>D12</th>\n",
       "      <th>E12</th>\n",
       "      <th>tbl</th>\n",
       "      <th>AAA</th>\n",
       "      <th>BAA</th>\n",
       "      <th>lty</th>\n",
       "      <th>Rfree</th>\n",
       "      <th>D/Y</th>\n",
       "      <th>E/P 10y</th>\n",
       "      <th>TWEXAFEGSMTHx</th>\n",
       "      <th>UMCSENTx</th>\n",
       "      <th>Canada: S&amp;P/TSX Composite Index, Close Price (AVG, 1975=1000)</th>\n",
       "      <th>Canada: MSCI Share Price Index ex Div, US$ (NSA, EOP, Dec-69=100)</th>\n",
       "      <th>Japan: Nikkei Stock Average: TSE 225 Issues (AVG, May-16-49=100)</th>\n",
       "      <th>Japan: 1st Tokyo Stock Exchange: Market Capitalization (EOP, Bil.Yen)</th>\n",
       "    </tr>\n",
       "  </thead>\n",
       "  <tbody>\n",
       "    <tr>\n",
       "      <th>0</th>\n",
       "      <td>NaN</td>\n",
       "      <td>NaN</td>\n",
       "      <td>NaN</td>\n",
       "      <td>NaN</td>\n",
       "      <td>NaN</td>\n",
       "      <td>NaN</td>\n",
       "      <td>NaN</td>\n",
       "      <td>NaN</td>\n",
       "      <td>NaN</td>\n",
       "      <td>NaN</td>\n",
       "      <td>NaN</td>\n",
       "      <td>NaN</td>\n",
       "      <td>NaN</td>\n",
       "      <td>NaN</td>\n",
       "      <td>NaN</td>\n",
       "    </tr>\n",
       "    <tr>\n",
       "      <th>1</th>\n",
       "      <td>0.1055</td>\n",
       "      <td>-0.8764</td>\n",
       "      <td>0.0005</td>\n",
       "      <td>0.0002</td>\n",
       "      <td>-0.0008</td>\n",
       "      <td>-0.0042</td>\n",
       "      <td>-0.000617</td>\n",
       "      <td>-0.987621</td>\n",
       "      <td>NaN</td>\n",
       "      <td>NaN</td>\n",
       "      <td>NaN</td>\n",
       "      <td>NaN</td>\n",
       "      <td>4.102746</td>\n",
       "      <td>-0.052014</td>\n",
       "      <td>3.491356</td>\n",
       "    </tr>\n",
       "    <tr>\n",
       "      <th>2</th>\n",
       "      <td>0.1051</td>\n",
       "      <td>-0.8842</td>\n",
       "      <td>-0.0074</td>\n",
       "      <td>-0.0009</td>\n",
       "      <td>-0.0015</td>\n",
       "      <td>0.0010</td>\n",
       "      <td>-0.000417</td>\n",
       "      <td>-1.037922</td>\n",
       "      <td>NaN</td>\n",
       "      <td>NaN</td>\n",
       "      <td>NaN</td>\n",
       "      <td>NaN</td>\n",
       "      <td>0.775571</td>\n",
       "      <td>5.830915</td>\n",
       "      <td>4.877206</td>\n",
       "    </tr>\n",
       "    <tr>\n",
       "      <th>3</th>\n",
       "      <td>0.1050</td>\n",
       "      <td>-0.6535</td>\n",
       "      <td>-0.0050</td>\n",
       "      <td>-0.0001</td>\n",
       "      <td>0.0007</td>\n",
       "      <td>0.0038</td>\n",
       "      <td>-0.000100</td>\n",
       "      <td>-1.038323</td>\n",
       "      <td>NaN</td>\n",
       "      <td>NaN</td>\n",
       "      <td>NaN</td>\n",
       "      <td>NaN</td>\n",
       "      <td>-12.404421</td>\n",
       "      <td>-0.186356</td>\n",
       "      <td>-14.638008</td>\n",
       "    </tr>\n",
       "    <tr>\n",
       "      <th>4</th>\n",
       "      <td>0.1052</td>\n",
       "      <td>-0.6576</td>\n",
       "      <td>-0.0012</td>\n",
       "      <td>0.0028</td>\n",
       "      <td>0.0028</td>\n",
       "      <td>0.0044</td>\n",
       "      <td>0.000275</td>\n",
       "      <td>-0.942430</td>\n",
       "      <td>NaN</td>\n",
       "      <td>NaN</td>\n",
       "      <td>NaN</td>\n",
       "      <td>NaN</td>\n",
       "      <td>-10.282468</td>\n",
       "      <td>-17.819392</td>\n",
       "      <td>-1.173458</td>\n",
       "    </tr>\n",
       "    <tr>\n",
       "      <th>...</th>\n",
       "      <td>...</td>\n",
       "      <td>...</td>\n",
       "      <td>...</td>\n",
       "      <td>...</td>\n",
       "      <td>...</td>\n",
       "      <td>...</td>\n",
       "      <td>...</td>\n",
       "      <td>...</td>\n",
       "      <td>...</td>\n",
       "      <td>...</td>\n",
       "      <td>...</td>\n",
       "      <td>...</td>\n",
       "      <td>...</td>\n",
       "      <td>...</td>\n",
       "      <td>...</td>\n",
       "    </tr>\n",
       "    <tr>\n",
       "      <th>475</th>\n",
       "      <td>-2.2805</td>\n",
       "      <td>16.7640</td>\n",
       "      <td>0.0000</td>\n",
       "      <td>-0.0015</td>\n",
       "      <td>-0.0051</td>\n",
       "      <td>-0.0015</td>\n",
       "      <td>-0.000008</td>\n",
       "      <td>-1.395314</td>\n",
       "      <td>-0.996895</td>\n",
       "      <td>-1.601524</td>\n",
       "      <td>-0.3</td>\n",
       "      <td>4.961329</td>\n",
       "      <td>-1.608526</td>\n",
       "      <td>7.350982</td>\n",
       "      <td>1.740772</td>\n",
       "    </tr>\n",
       "    <tr>\n",
       "      <th>476</th>\n",
       "      <td>-2.3337</td>\n",
       "      <td>14.3530</td>\n",
       "      <td>-0.0001</td>\n",
       "      <td>-0.0013</td>\n",
       "      <td>-0.0027</td>\n",
       "      <td>-0.0012</td>\n",
       "      <td>-0.000042</td>\n",
       "      <td>-1.451660</td>\n",
       "      <td>-1.005237</td>\n",
       "      <td>-1.584639</td>\n",
       "      <td>7.8</td>\n",
       "      <td>3.975804</td>\n",
       "      <td>6.785695</td>\n",
       "      <td>-1.229733</td>\n",
       "      <td>-5.469457</td>\n",
       "    </tr>\n",
       "    <tr>\n",
       "      <th>477</th>\n",
       "      <td>-2.1085</td>\n",
       "      <td>70.3855</td>\n",
       "      <td>-0.0005</td>\n",
       "      <td>0.0002</td>\n",
       "      <td>-0.0002</td>\n",
       "      <td>0.0017</td>\n",
       "      <td>-0.000042</td>\n",
       "      <td>-1.507845</td>\n",
       "      <td>-1.008023</td>\n",
       "      <td>-1.658745</td>\n",
       "      <td>-2.9</td>\n",
       "      <td>0.323243</td>\n",
       "      <td>-5.462480</td>\n",
       "      <td>-2.323525</td>\n",
       "      <td>-1.204183</td>\n",
       "    </tr>\n",
       "    <tr>\n",
       "      <th>478</th>\n",
       "      <td>-2.1539</td>\n",
       "      <td>40.9009</td>\n",
       "      <td>-0.0005</td>\n",
       "      <td>0.0004</td>\n",
       "      <td>0.0003</td>\n",
       "      <td>-0.0014</td>\n",
       "      <td>-0.000017</td>\n",
       "      <td>-1.509424</td>\n",
       "      <td>-1.007648</td>\n",
       "      <td>-0.602732</td>\n",
       "      <td>-3.2</td>\n",
       "      <td>1.061609</td>\n",
       "      <td>6.971495</td>\n",
       "      <td>-4.316345</td>\n",
       "      <td>-6.312860</td>\n",
       "    </tr>\n",
       "    <tr>\n",
       "      <th>479</th>\n",
       "      <td>-2.2013</td>\n",
       "      <td>28.9449</td>\n",
       "      <td>-0.0002</td>\n",
       "      <td>0.0007</td>\n",
       "      <td>0.0005</td>\n",
       "      <td>0.0052</td>\n",
       "      <td>0.000000</td>\n",
       "      <td>-1.587216</td>\n",
       "      <td>-1.005122</td>\n",
       "      <td>1.156501</td>\n",
       "      <td>5.1</td>\n",
       "      <td>1.462354</td>\n",
       "      <td>2.850436</td>\n",
       "      <td>5.332106</td>\n",
       "      <td>8.347039</td>\n",
       "    </tr>\n",
       "  </tbody>\n",
       "</table>\n",
       "<p>480 rows × 15 columns</p>\n",
       "</div>"
      ],
      "text/plain": [
       "        D12      E12     tbl     AAA     BAA     lty     Rfree       D/Y  \\\n",
       "0       NaN      NaN     NaN     NaN     NaN     NaN       NaN       NaN   \n",
       "1    0.1055  -0.8764  0.0005  0.0002 -0.0008 -0.0042 -0.000617 -0.987621   \n",
       "2    0.1051  -0.8842 -0.0074 -0.0009 -0.0015  0.0010 -0.000417 -1.037922   \n",
       "3    0.1050  -0.6535 -0.0050 -0.0001  0.0007  0.0038 -0.000100 -1.038323   \n",
       "4    0.1052  -0.6576 -0.0012  0.0028  0.0028  0.0044  0.000275 -0.942430   \n",
       "..      ...      ...     ...     ...     ...     ...       ...       ...   \n",
       "475 -2.2805  16.7640  0.0000 -0.0015 -0.0051 -0.0015 -0.000008 -1.395314   \n",
       "476 -2.3337  14.3530 -0.0001 -0.0013 -0.0027 -0.0012 -0.000042 -1.451660   \n",
       "477 -2.1085  70.3855 -0.0005  0.0002 -0.0002  0.0017 -0.000042 -1.507845   \n",
       "478 -2.1539  40.9009 -0.0005  0.0004  0.0003 -0.0014 -0.000017 -1.509424   \n",
       "479 -2.2013  28.9449 -0.0002  0.0007  0.0005  0.0052  0.000000 -1.587216   \n",
       "\n",
       "      E/P 10y  TWEXAFEGSMTHx  UMCSENTx  \\\n",
       "0         NaN            NaN       NaN   \n",
       "1         NaN            NaN       NaN   \n",
       "2         NaN            NaN       NaN   \n",
       "3         NaN            NaN       NaN   \n",
       "4         NaN            NaN       NaN   \n",
       "..        ...            ...       ...   \n",
       "475 -0.996895      -1.601524      -0.3   \n",
       "476 -1.005237      -1.584639       7.8   \n",
       "477 -1.008023      -1.658745      -2.9   \n",
       "478 -1.007648      -0.602732      -3.2   \n",
       "479 -1.005122       1.156501       5.1   \n",
       "\n",
       "     Canada: S&P/TSX Composite Index, Close Price (AVG, 1975=1000)  \\\n",
       "0                                                  NaN               \n",
       "1                                                  NaN               \n",
       "2                                                  NaN               \n",
       "3                                                  NaN               \n",
       "4                                                  NaN               \n",
       "..                                                 ...               \n",
       "475                                           4.961329               \n",
       "476                                           3.975804               \n",
       "477                                           0.323243               \n",
       "478                                           1.061609               \n",
       "479                                           1.462354               \n",
       "\n",
       "     Canada: MSCI Share Price Index ex Div, US$ (NSA, EOP, Dec-69=100)  \\\n",
       "0                                                  NaN                   \n",
       "1                                             4.102746                   \n",
       "2                                             0.775571                   \n",
       "3                                           -12.404421                   \n",
       "4                                           -10.282468                   \n",
       "..                                                 ...                   \n",
       "475                                          -1.608526                   \n",
       "476                                           6.785695                   \n",
       "477                                          -5.462480                   \n",
       "478                                           6.971495                   \n",
       "479                                           2.850436                   \n",
       "\n",
       "     Japan: Nikkei Stock Average: TSE 225 Issues (AVG, May-16-49=100)  \\\n",
       "0                                                  NaN                  \n",
       "1                                            -0.052014                  \n",
       "2                                             5.830915                  \n",
       "3                                            -0.186356                  \n",
       "4                                           -17.819392                  \n",
       "..                                                 ...                  \n",
       "475                                           7.350982                  \n",
       "476                                          -1.229733                  \n",
       "477                                          -2.323525                  \n",
       "478                                          -4.316345                  \n",
       "479                                           5.332106                  \n",
       "\n",
       "     Japan: 1st Tokyo Stock Exchange: Market Capitalization (EOP, Bil.Yen)  \n",
       "0                                                  NaN                      \n",
       "1                                             3.491356                      \n",
       "2                                             4.877206                      \n",
       "3                                           -14.638008                      \n",
       "4                                            -1.173458                      \n",
       "..                                                 ...                      \n",
       "475                                           1.740772                      \n",
       "476                                          -5.469457                      \n",
       "477                                          -1.204183                      \n",
       "478                                          -6.312860                      \n",
       "479                                           8.347039                      \n",
       "\n",
       "[480 rows x 15 columns]"
      ]
     },
     "execution_count": 7,
     "metadata": {},
     "output_type": "execute_result"
    }
   ],
   "source": [
    "# showing all the columns with at least 1 Nan value\n",
    "data.loc[:, np.sum(data.isnull()) >= 1]"
   ]
  },
  {
   "cell_type": "markdown",
   "metadata": {
    "cell_id": "8196da9c-c33c-4bcb-986c-d0c20f5ece6d",
    "tags": []
   },
   "source": [
    "## A.5: Replace Nan values\n",
    "\n",
    "## Since the features seems to not have that much variance to choose the **median** as replacement, I will go with the **mean**"
   ]
  },
  {
   "cell_type": "code",
   "execution_count": 8,
   "metadata": {},
   "outputs": [
    {
     "data": {
      "text/html": [
       "<div>\n",
       "<style scoped>\n",
       "    .dataframe tbody tr th:only-of-type {\n",
       "        vertical-align: middle;\n",
       "    }\n",
       "\n",
       "    .dataframe tbody tr th {\n",
       "        vertical-align: top;\n",
       "    }\n",
       "\n",
       "    .dataframe thead th {\n",
       "        text-align: right;\n",
       "    }\n",
       "</style>\n",
       "<table border=\"1\" class=\"dataframe\">\n",
       "  <thead>\n",
       "    <tr style=\"text-align: right;\">\n",
       "      <th></th>\n",
       "      <th>D12</th>\n",
       "      <th>E12</th>\n",
       "      <th>b/m</th>\n",
       "      <th>tbl</th>\n",
       "      <th>AAA</th>\n",
       "      <th>BAA</th>\n",
       "      <th>lty</th>\n",
       "      <th>ntis</th>\n",
       "      <th>Rfree</th>\n",
       "      <th>ltr</th>\n",
       "      <th>...</th>\n",
       "      <th>MZMSL</th>\n",
       "      <th>DTCOLNVHFNM</th>\n",
       "      <th>DTCTHFNM</th>\n",
       "      <th>INVEST</th>\n",
       "      <th>VXOCLSx</th>\n",
       "      <th>Canada: S&amp;P/TSX Composite Index, Close Price (AVG, 1975=1000)</th>\n",
       "      <th>Canada: MSCI Share Price Index ex Div, US$ (NSA, EOP, Dec-69=100)</th>\n",
       "      <th>Japan: Nikkei Stock Average: TSE 225 Issues (AVG, May-16-49=100)</th>\n",
       "      <th>Japan: 1st Tokyo Stock Exchange: Market Capitalization (EOP, Bil.Yen)</th>\n",
       "      <th>CRSP_SPvw</th>\n",
       "    </tr>\n",
       "  </thead>\n",
       "  <tbody>\n",
       "    <tr>\n",
       "      <th>count</th>\n",
       "      <td>479.000000</td>\n",
       "      <td>479.000000</td>\n",
       "      <td>480.000000</td>\n",
       "      <td>479.000000</td>\n",
       "      <td>479.000000</td>\n",
       "      <td>479.000000</td>\n",
       "      <td>479.000000</td>\n",
       "      <td>480.000000</td>\n",
       "      <td>479.000000</td>\n",
       "      <td>480.000000</td>\n",
       "      <td>...</td>\n",
       "      <td>480.000000</td>\n",
       "      <td>480.000000</td>\n",
       "      <td>480.000000</td>\n",
       "      <td>480.000000</td>\n",
       "      <td>480.000000</td>\n",
       "      <td>395.000000</td>\n",
       "      <td>479.000000</td>\n",
       "      <td>479.000000</td>\n",
       "      <td>479.000000</td>\n",
       "      <td>480.000000</td>\n",
       "    </tr>\n",
       "    <tr>\n",
       "      <th>mean</th>\n",
       "      <td>0.408698</td>\n",
       "      <td>0.456268</td>\n",
       "      <td>0.522211</td>\n",
       "      <td>-0.000162</td>\n",
       "      <td>-0.000055</td>\n",
       "      <td>-0.000052</td>\n",
       "      <td>-0.000049</td>\n",
       "      <td>0.011185</td>\n",
       "      <td>-0.000014</td>\n",
       "      <td>0.007382</td>\n",
       "      <td>...</td>\n",
       "      <td>-0.001141</td>\n",
       "      <td>-0.001588</td>\n",
       "      <td>-0.004171</td>\n",
       "      <td>0.001352</td>\n",
       "      <td>20.558079</td>\n",
       "      <td>0.620671</td>\n",
       "      <td>0.570901</td>\n",
       "      <td>0.307894</td>\n",
       "      <td>0.607270</td>\n",
       "      <td>0.008978</td>\n",
       "    </tr>\n",
       "    <tr>\n",
       "      <th>std</th>\n",
       "      <td>0.585932</td>\n",
       "      <td>6.001773</td>\n",
       "      <td>0.296665</td>\n",
       "      <td>0.005071</td>\n",
       "      <td>0.002542</td>\n",
       "      <td>0.002445</td>\n",
       "      <td>0.003381</td>\n",
       "      <td>0.020329</td>\n",
       "      <td>0.000423</td>\n",
       "      <td>0.031201</td>\n",
       "      <td>...</td>\n",
       "      <td>0.639619</td>\n",
       "      <td>2.410095</td>\n",
       "      <td>1.274555</td>\n",
       "      <td>1.124985</td>\n",
       "      <td>7.468124</td>\n",
       "      <td>4.077185</td>\n",
       "      <td>5.883142</td>\n",
       "      <td>4.730368</td>\n",
       "      <td>5.250364</td>\n",
       "      <td>0.045127</td>\n",
       "    </tr>\n",
       "    <tr>\n",
       "      <th>min</th>\n",
       "      <td>-2.333700</td>\n",
       "      <td>-52.828000</td>\n",
       "      <td>0.120510</td>\n",
       "      <td>-0.046200</td>\n",
       "      <td>-0.011800</td>\n",
       "      <td>-0.010200</td>\n",
       "      <td>-0.016400</td>\n",
       "      <td>-0.057654</td>\n",
       "      <td>-0.003850</td>\n",
       "      <td>-0.112400</td>\n",
       "      <td>...</td>\n",
       "      <td>-3.449091</td>\n",
       "      <td>-14.429009</td>\n",
       "      <td>-7.647989</td>\n",
       "      <td>-8.089393</td>\n",
       "      <td>10.484200</td>\n",
       "      <td>-24.201664</td>\n",
       "      <td>-31.683606</td>\n",
       "      <td>-28.500410</td>\n",
       "      <td>-22.129527</td>\n",
       "      <td>-0.215795</td>\n",
       "    </tr>\n",
       "    <tr>\n",
       "      <th>25%</th>\n",
       "      <td>0.108300</td>\n",
       "      <td>-0.678400</td>\n",
       "      <td>0.274474</td>\n",
       "      <td>-0.001550</td>\n",
       "      <td>-0.001200</td>\n",
       "      <td>-0.001300</td>\n",
       "      <td>-0.001800</td>\n",
       "      <td>0.001205</td>\n",
       "      <td>-0.000129</td>\n",
       "      <td>-0.010500</td>\n",
       "      <td>...</td>\n",
       "      <td>-0.238611</td>\n",
       "      <td>-0.929368</td>\n",
       "      <td>-0.535347</td>\n",
       "      <td>-0.593550</td>\n",
       "      <td>15.661175</td>\n",
       "      <td>-1.403755</td>\n",
       "      <td>-2.376727</td>\n",
       "      <td>-1.843206</td>\n",
       "      <td>-2.335465</td>\n",
       "      <td>-0.015899</td>\n",
       "    </tr>\n",
       "    <tr>\n",
       "      <th>50%</th>\n",
       "      <td>0.479500</td>\n",
       "      <td>0.738700</td>\n",
       "      <td>0.440460</td>\n",
       "      <td>0.000000</td>\n",
       "      <td>-0.000100</td>\n",
       "      <td>-0.000100</td>\n",
       "      <td>-0.000100</td>\n",
       "      <td>0.013372</td>\n",
       "      <td>0.000000</td>\n",
       "      <td>0.007800</td>\n",
       "      <td>...</td>\n",
       "      <td>0.001171</td>\n",
       "      <td>0.038803</td>\n",
       "      <td>0.083713</td>\n",
       "      <td>0.057688</td>\n",
       "      <td>18.926000</td>\n",
       "      <td>0.768887</td>\n",
       "      <td>0.942354</td>\n",
       "      <td>0.629102</td>\n",
       "      <td>0.880259</td>\n",
       "      <td>0.011994</td>\n",
       "    </tr>\n",
       "    <tr>\n",
       "      <th>75%</th>\n",
       "      <td>0.792300</td>\n",
       "      <td>1.802500</td>\n",
       "      <td>0.748185</td>\n",
       "      <td>0.001600</td>\n",
       "      <td>0.001100</td>\n",
       "      <td>0.001100</td>\n",
       "      <td>0.001700</td>\n",
       "      <td>0.026438</td>\n",
       "      <td>0.000133</td>\n",
       "      <td>0.024325</td>\n",
       "      <td>...</td>\n",
       "      <td>0.239743</td>\n",
       "      <td>0.956693</td>\n",
       "      <td>0.545772</td>\n",
       "      <td>0.637575</td>\n",
       "      <td>23.545775</td>\n",
       "      <td>3.241493</td>\n",
       "      <td>4.092420</td>\n",
       "      <td>3.135632</td>\n",
       "      <td>3.826297</td>\n",
       "      <td>0.038461</td>\n",
       "    </tr>\n",
       "    <tr>\n",
       "      <th>max</th>\n",
       "      <td>1.716900</td>\n",
       "      <td>70.385500</td>\n",
       "      <td>1.206530</td>\n",
       "      <td>0.026100</td>\n",
       "      <td>0.012900</td>\n",
       "      <td>0.015700</td>\n",
       "      <td>0.011400</td>\n",
       "      <td>0.045747</td>\n",
       "      <td>0.002175</td>\n",
       "      <td>0.152300</td>\n",
       "      <td>...</td>\n",
       "      <td>5.959410</td>\n",
       "      <td>13.810457</td>\n",
       "      <td>8.497566</td>\n",
       "      <td>4.962298</td>\n",
       "      <td>67.151000</td>\n",
       "      <td>10.973745</td>\n",
       "      <td>19.069660</td>\n",
       "      <td>14.219130</td>\n",
       "      <td>16.898864</td>\n",
       "      <td>0.168113</td>\n",
       "    </tr>\n",
       "  </tbody>\n",
       "</table>\n",
       "<p>8 rows × 151 columns</p>\n",
       "</div>"
      ],
      "text/plain": [
       "              D12         E12         b/m         tbl         AAA         BAA  \\\n",
       "count  479.000000  479.000000  480.000000  479.000000  479.000000  479.000000   \n",
       "mean     0.408698    0.456268    0.522211   -0.000162   -0.000055   -0.000052   \n",
       "std      0.585932    6.001773    0.296665    0.005071    0.002542    0.002445   \n",
       "min     -2.333700  -52.828000    0.120510   -0.046200   -0.011800   -0.010200   \n",
       "25%      0.108300   -0.678400    0.274474   -0.001550   -0.001200   -0.001300   \n",
       "50%      0.479500    0.738700    0.440460    0.000000   -0.000100   -0.000100   \n",
       "75%      0.792300    1.802500    0.748185    0.001600    0.001100    0.001100   \n",
       "max      1.716900   70.385500    1.206530    0.026100    0.012900    0.015700   \n",
       "\n",
       "              lty        ntis       Rfree         ltr  ...       MZMSL  \\\n",
       "count  479.000000  480.000000  479.000000  480.000000  ...  480.000000   \n",
       "mean    -0.000049    0.011185   -0.000014    0.007382  ...   -0.001141   \n",
       "std      0.003381    0.020329    0.000423    0.031201  ...    0.639619   \n",
       "min     -0.016400   -0.057654   -0.003850   -0.112400  ...   -3.449091   \n",
       "25%     -0.001800    0.001205   -0.000129   -0.010500  ...   -0.238611   \n",
       "50%     -0.000100    0.013372    0.000000    0.007800  ...    0.001171   \n",
       "75%      0.001700    0.026438    0.000133    0.024325  ...    0.239743   \n",
       "max      0.011400    0.045747    0.002175    0.152300  ...    5.959410   \n",
       "\n",
       "       DTCOLNVHFNM    DTCTHFNM      INVEST     VXOCLSx  \\\n",
       "count   480.000000  480.000000  480.000000  480.000000   \n",
       "mean     -0.001588   -0.004171    0.001352   20.558079   \n",
       "std       2.410095    1.274555    1.124985    7.468124   \n",
       "min     -14.429009   -7.647989   -8.089393   10.484200   \n",
       "25%      -0.929368   -0.535347   -0.593550   15.661175   \n",
       "50%       0.038803    0.083713    0.057688   18.926000   \n",
       "75%       0.956693    0.545772    0.637575   23.545775   \n",
       "max      13.810457    8.497566    4.962298   67.151000   \n",
       "\n",
       "       Canada: S&P/TSX Composite Index, Close Price (AVG, 1975=1000)  \\\n",
       "count                                         395.000000               \n",
       "mean                                            0.620671               \n",
       "std                                             4.077185               \n",
       "min                                           -24.201664               \n",
       "25%                                            -1.403755               \n",
       "50%                                             0.768887               \n",
       "75%                                             3.241493               \n",
       "max                                            10.973745               \n",
       "\n",
       "       Canada: MSCI Share Price Index ex Div, US$ (NSA, EOP, Dec-69=100)  \\\n",
       "count                                         479.000000                   \n",
       "mean                                            0.570901                   \n",
       "std                                             5.883142                   \n",
       "min                                           -31.683606                   \n",
       "25%                                            -2.376727                   \n",
       "50%                                             0.942354                   \n",
       "75%                                             4.092420                   \n",
       "max                                            19.069660                   \n",
       "\n",
       "       Japan: Nikkei Stock Average: TSE 225 Issues (AVG, May-16-49=100)  \\\n",
       "count                                         479.000000                  \n",
       "mean                                            0.307894                  \n",
       "std                                             4.730368                  \n",
       "min                                           -28.500410                  \n",
       "25%                                            -1.843206                  \n",
       "50%                                             0.629102                  \n",
       "75%                                             3.135632                  \n",
       "max                                            14.219130                  \n",
       "\n",
       "       Japan: 1st Tokyo Stock Exchange: Market Capitalization (EOP, Bil.Yen)  \\\n",
       "count                                         479.000000                       \n",
       "mean                                            0.607270                       \n",
       "std                                             5.250364                       \n",
       "min                                           -22.129527                       \n",
       "25%                                            -2.335465                       \n",
       "50%                                             0.880259                       \n",
       "75%                                             3.826297                       \n",
       "max                                            16.898864                       \n",
       "\n",
       "        CRSP_SPvw  \n",
       "count  480.000000  \n",
       "mean     0.008978  \n",
       "std      0.045127  \n",
       "min     -0.215795  \n",
       "25%     -0.015899  \n",
       "50%      0.011994  \n",
       "75%      0.038461  \n",
       "max      0.168113  \n",
       "\n",
       "[8 rows x 151 columns]"
      ]
     },
     "execution_count": 8,
     "metadata": {},
     "output_type": "execute_result"
    }
   ],
   "source": [
    "data.describe()"
   ]
  },
  {
   "cell_type": "code",
   "execution_count": 9,
   "metadata": {
    "cell_id": "a88125a3-02a9-42c2-bd04-465f003dc44d",
    "tags": []
   },
   "outputs": [
    {
     "data": {
      "text/plain": [
       "0"
      ]
     },
     "execution_count": 9,
     "metadata": {},
     "output_type": "execute_result"
    }
   ],
   "source": [
    "data.fillna(data.mean(), inplace = True)\n",
    "\n",
    "# checking if the filling worked out\n",
    "data.isnull().any().sum()"
   ]
  },
  {
   "cell_type": "markdown",
   "metadata": {
    "cell_id": "84c99c68-f6d9-4f77-a419-99c70e13b1b1",
    "tags": []
   },
   "source": [
    "## A.6: Dividing continous and categorical"
   ]
  },
  {
   "cell_type": "code",
   "execution_count": 10,
   "metadata": {
    "cell_id": "376db856-1dd6-4e41-a264-e0390fee1a48",
    "tags": []
   },
   "outputs": [],
   "source": [
    "d_cont = data.select_dtypes(include = 'float64')\n",
    "d_cat = data.select_dtypes(exclude = 'float64')\n",
    "\n"
   ]
  },
  {
   "cell_type": "code",
   "execution_count": 11,
   "metadata": {
    "cell_id": "5dda3900-e5c1-4341-9dd8-5acf2db50c30",
    "tags": []
   },
   "outputs": [
    {
     "data": {
      "text/html": [
       "<div>\n",
       "<style scoped>\n",
       "    .dataframe tbody tr th:only-of-type {\n",
       "        vertical-align: middle;\n",
       "    }\n",
       "\n",
       "    .dataframe tbody tr th {\n",
       "        vertical-align: top;\n",
       "    }\n",
       "\n",
       "    .dataframe thead th {\n",
       "        text-align: right;\n",
       "    }\n",
       "</style>\n",
       "<table border=\"1\" class=\"dataframe\">\n",
       "  <thead>\n",
       "    <tr style=\"text-align: right;\">\n",
       "      <th></th>\n",
       "      <th>dates</th>\n",
       "      <th>HWI</th>\n",
       "    </tr>\n",
       "  </thead>\n",
       "  <tbody>\n",
       "    <tr>\n",
       "      <th>0</th>\n",
       "      <td>31/01/70</td>\n",
       "      <td>-153</td>\n",
       "    </tr>\n",
       "    <tr>\n",
       "      <th>1</th>\n",
       "      <td>28/02/70</td>\n",
       "      <td>-36</td>\n",
       "    </tr>\n",
       "    <tr>\n",
       "      <th>2</th>\n",
       "      <td>31/03/70</td>\n",
       "      <td>-184</td>\n",
       "    </tr>\n",
       "    <tr>\n",
       "      <th>3</th>\n",
       "      <td>30/04/70</td>\n",
       "      <td>-91</td>\n",
       "    </tr>\n",
       "    <tr>\n",
       "      <th>4</th>\n",
       "      <td>31/05/70</td>\n",
       "      <td>-194</td>\n",
       "    </tr>\n",
       "  </tbody>\n",
       "</table>\n",
       "</div>"
      ],
      "text/plain": [
       "      dates  HWI\n",
       "0  31/01/70 -153\n",
       "1  28/02/70  -36\n",
       "2  31/03/70 -184\n",
       "3  30/04/70  -91\n",
       "4  31/05/70 -194"
      ]
     },
     "execution_count": 11,
     "metadata": {},
     "output_type": "execute_result"
    }
   ],
   "source": [
    "d_cat.head()"
   ]
  },
  {
   "cell_type": "markdown",
   "metadata": {
    "cell_id": "8f74492b-766f-4ffe-bfe5-a34182dea55f",
    "tags": []
   },
   "source": [
    "## Since **HWI** is a continous variable too, I convert it and transform **d_cont** in **X**. "
   ]
  },
  {
   "cell_type": "markdown",
   "metadata": {
    "cell_id": "c89fcebc-00d1-477c-8b3b-9b1764475123",
    "tags": []
   },
   "source": [
    "## A.7/8/9"
   ]
  },
  {
   "cell_type": "code",
   "execution_count": 12,
   "metadata": {
    "cell_id": "62845f0f-0575-4983-9beb-39ec64c03c08",
    "tags": []
   },
   "outputs": [],
   "source": [
    "data['HWI'] = data['HWI'].astype(float)\n",
    "\n",
    "x = data.select_dtypes(include = 'float64')\n",
    "\n",
    "#useful for plot\n",
    "data['dates'] = pd.to_datetime(data['dates'])\n"
   ]
  },
  {
   "cell_type": "code",
   "execution_count": 13,
   "metadata": {
    "cell_id": "5eb624c1-82b8-43cf-a810-6e9cee474f67",
    "tags": []
   },
   "outputs": [
    {
     "name": "stderr",
     "output_type": "stream",
     "text": [
      "C:\\Users\\GP_HP\\anaconda3\\lib\\site-packages\\pandas\\core\\frame.py:3997: SettingWithCopyWarning: \n",
      "A value is trying to be set on a copy of a slice from a DataFrame\n",
      "\n",
      "See the caveats in the documentation: https://pandas.pydata.org/pandas-docs/stable/user_guide/indexing.html#returning-a-view-versus-a-copy\n",
      "  errors=errors,\n"
     ]
    }
   ],
   "source": [
    "# dropping target variable\n",
    "y = data['CRSP_SPvw']\n",
    "x.drop('CRSP_SPvw', axis = 1, inplace = True)"
   ]
  },
  {
   "cell_type": "markdown",
   "metadata": {
    "cell_id": "a99e0967-4c79-4f1b-80f9-c4b7c580d63e",
    "tags": []
   },
   "source": [
    "## A.10: Scale data"
   ]
  },
  {
   "cell_type": "code",
   "execution_count": 14,
   "metadata": {
    "cell_id": "018fe389-0e85-4043-aeb4-295fe8801360",
    "tags": []
   },
   "outputs": [],
   "source": [
    "sc = StandardScaler()\n",
    "\n",
    "x_scaled = sc.fit_transform(x)"
   ]
  },
  {
   "cell_type": "markdown",
   "metadata": {
    "cell_id": "639fe5f0-8213-4685-8337-49d8d1d13df8",
    "tags": []
   },
   "source": [
    "## A.11/12: Correlation"
   ]
  },
  {
   "cell_type": "code",
   "execution_count": 15,
   "metadata": {
    "cell_id": "ff339954-a150-456e-a17c-ce0b3264500b",
    "tags": []
   },
   "outputs": [
    {
     "data": {
      "text/plain": [
       "Canada: MSCI Share Price Index ex Div, US$ (NSA, EOP, Dec-69=100)        0.745427\n",
       "S&P 500                                                                  0.659790\n",
       "S&P: indust                                                              0.653270\n",
       "S&P PE ratio                                                             0.535205\n",
       "Canada: S&P/TSX Composite Index, Close Price (AVG, 1975=1000)            0.463284\n",
       "Japan: 1st Tokyo Stock Exchange: Market Capitalization (EOP, Bil.Yen)    0.400496\n",
       "corpr                                                                    0.315496\n",
       "Japan: Nikkei Stock Average: TSE 225 Issues (AVG, May-16-49=100)         0.277427\n",
       "ltr                                                                      0.212480\n",
       "Name: CRSP_SPvw, dtype: float64"
      ]
     },
     "execution_count": 15,
     "metadata": {},
     "output_type": "execute_result"
    }
   ],
   "source": [
    "# create the dataframe of the scaled values\n",
    "df_x_scaled = pd.DataFrame(x_scaled, columns = x.columns)\n",
    "\n",
    "# add y \n",
    "data_scaled = pd.concat([df_x_scaled, y], axis = 1)\n",
    "\n",
    "# correlation\n",
    "cor = data_scaled.corr()\n",
    "\n",
    "#sorting values\n",
    "cor.sort_values('CRSP_SPvw', inplace = True, ascending = False)\n",
    "\n",
    "#top 10 positive\n",
    "cor['CRSP_SPvw'][1:10]"
   ]
  },
  {
   "cell_type": "code",
   "execution_count": 16,
   "metadata": {
    "cell_id": "517b2b82-21d0-4742-a763-acb063715dd7",
    "tags": []
   },
   "outputs": [
    {
     "data": {
      "text/plain": [
       "S&P div yield   -0.609288\n",
       "svar            -0.317676\n",
       "BAA.1           -0.263663\n",
       "BAA             -0.260437\n",
       "AAA.1           -0.235382\n",
       "AAA             -0.232521\n",
       "lty             -0.225801\n",
       "GS10            -0.200896\n",
       "EXCAUSx         -0.197226\n",
       "GS5             -0.191929\n",
       "Name: CRSP_SPvw, dtype: float64"
      ]
     },
     "execution_count": 16,
     "metadata": {},
     "output_type": "execute_result"
    }
   ],
   "source": [
    "# top 10 negative\n",
    "cor.sort_values('CRSP_SPvw', inplace = True, ascending = True)\n",
    "cor['CRSP_SPvw'][0:10]"
   ]
  },
  {
   "cell_type": "markdown",
   "metadata": {
    "cell_id": "b516c44e-d641-4a16-86ae-ae3d30504585",
    "tags": []
   },
   "source": [
    "### It's not a surprise to see as the most correlated all the features related to **S&P 500**. What is surprising is that the **Canada stock market index** is more correlated than those."
   ]
  },
  {
   "cell_type": "markdown",
   "metadata": {
    "cell_id": "99bb5528-619d-4164-8bd2-4f932e937b54",
    "tags": []
   },
   "source": [
    "# B: Models"
   ]
  },
  {
   "cell_type": "markdown",
   "metadata": {},
   "source": [
    "### I will use **TimeSeriesSplit** to divide in train and test set inside **GridSearchCV**,so I thought that I should not need to make train and test set. \n",
    "\n",
    "### Since it is asked to plot the predicted value and confront it with the real value, I cannot call **predict()** on the same set that i used to train the gridsearch algorithm. \n",
    "\n",
    "### So i will create **train/test** set with size of the test of $15\\%$\n"
   ]
  },
  {
   "cell_type": "code",
   "execution_count": 17,
   "metadata": {},
   "outputs": [],
   "source": [
    "x_scaled_train = x_scaled[:408]\n",
    "y_train = y[:408]\n",
    "\n",
    "x_scaled_test = x_scaled[408:]\n",
    "y_test = y[408:]"
   ]
  },
  {
   "cell_type": "markdown",
   "metadata": {},
   "source": [
    "# Gridsearch with Ridge"
   ]
  },
  {
   "cell_type": "code",
   "execution_count": 25,
   "metadata": {
    "cell_id": "733ae7bc-679b-4ae0-9529-c39b9885bf54",
    "tags": []
   },
   "outputs": [],
   "source": [
    "alphas = np.logspace(-2, -.5, 20) \n",
    "params = [{'alpha': alphas}]\n",
    "\n",
    "tss = TimeSeriesSplit()\n",
    "\n",
    "ridge = Ridge(random_state=90, max_iter=1000)\n",
    "\n",
    "grid_rid = GridSearchCV(ridge, params, cv=tss, scoring = ['neg_mean_squared_error', 'neg_mean_absolute_error'], refit = 'neg_mean_squared_error', n_jobs = -1)\n",
    "\n",
    "grid_rid.fit(x_scaled_train, y_train)\n",
    "\n",
    "\n"
   ]
  },
  {
   "cell_type": "code",
   "execution_count": 20,
   "metadata": {},
   "outputs": [
    {
     "data": {
      "text/plain": [
       "<matplotlib.legend.Legend at 0x2415f9b1908>"
      ]
     },
     "execution_count": 20,
     "metadata": {},
     "output_type": "execute_result"
    },
    {
     "data": {
      "image/png": "[encoded data removed]",
      "text/plain": [
       "<Figure size 1080x432 with 1 Axes>"
      ]
     },
     "metadata": {
      "needs_background": "light"
     },
     "output_type": "display_data"
    }
   ],
   "source": [
    "y_pred = grid_rid.predict(x_scaled_test)\n",
    "\n",
    "\n",
    "\n",
    "plt.figure().set_size_inches(15, 6)\n",
    "line_pred, = plt.plot(data.iloc[408:,0], y_pred, color = 'red', lw = 2)\n",
    "line_true, = plt.plot(data.iloc[408:,0], y_test, lw = 2)\n",
    "plt.grid()\n",
    "\n",
    "plt.ylabel('SP500 monthly return rate')\n",
    "plt.xlabel('Date')\n",
    "plt.title('Prediction')\n",
    "plt.legend([line_pred, line_true], ['Predicted', 'Real'])"
   ]
  },
  {
   "cell_type": "markdown",
   "metadata": {},
   "source": [
    "### This model seems to catch quite good(probably too much) the real value except for 2008.\n",
    "\n",
    "### Let's look at the MSE and MAE"
   ]
  },
  {
   "cell_type": "code",
   "execution_count": 34,
   "metadata": {
    "cell_id": "33e21a35-d17d-447b-bbc2-f2e006f5651a",
    "tags": []
   },
   "outputs": [
    {
     "data": {
      "text/plain": [
       "Text(0.5, 1.0, 'MAE')"
      ]
     },
     "execution_count": 34,
     "metadata": {},
     "output_type": "execute_result"
    },
    {
     "data": {
      "image/png": "[encoded data removed]",
      "text/plain": [
       "<Figure size 1080x432 with 2 Axes>"
      ]
     },
     "metadata": {
      "needs_background": "light"
     },
     "output_type": "display_data"
    }
   ],
   "source": [
    "MSE_rid = grid_rid.cv_results_['mean_test_neg_mean_squared_error']\n",
    "MSE_std_rid = grid_rid.cv_results_['std_test_neg_mean_squared_error']\n",
    "\n",
    "MAE_rid = grid_rid.cv_results_['mean_test_neg_mean_absolute_error']\n",
    "MAE_std_rid = grid_rid.cv_results_['std_test_neg_mean_absolute_error']\n",
    "\n",
    "plt.figure().set_size_inches(15, 6)\n",
    "\n",
    "ax = plt.subplot(1,2,1)\n",
    "plt.semilogx(alphas, MSE_rid)\n",
    "std_error = MSE_std_rid/ np.sqrt(5) # 5 because TimeSeriesSplit has as default value n_folds = 5\n",
    "\n",
    "plt.semilogx(alphas, MSE_rid + std_error, 'b--')\n",
    "plt.semilogx(alphas, MSE_rid - std_error, 'b--')\n",
    "\n",
    "plt.fill_between(alphas, MSE_rid + std_error, MSE_rid - std_error, alpha=0.2)\n",
    "\n",
    "plt.ylabel('MSE +/- std error')\n",
    "plt.xlabel('alpha')\n",
    "plt.axhline(np.max(MSE_rid), linestyle='--', color='.5')\n",
    "plt.xlim([alphas[0], alphas[-1]])\n",
    "plt.title(\"MSE\")\n",
    "\n",
    "\n",
    "ax = plt.subplot(1,2,2)\n",
    "plt.semilogx(alphas, MAE_rid)\n",
    "std_error = MAE_std_rid/ np.sqrt(5)\n",
    "\n",
    "plt.semilogx(alphas, MAE_rid + std_error, 'b--')\n",
    "plt.semilogx(alphas, MAE_rid - std_error, 'b--')\n",
    "\n",
    "plt.fill_between(alphas, MAE_rid + std_error, MAE_rid - std_error, alpha=0.2)\n",
    "\n",
    "plt.ylabel('MAE +/- std error')\n",
    "plt.xlabel('alpha')\n",
    "plt.axhline(np.max(MAE_rid), linestyle='--', color='.5')\n",
    "plt.xlim([alphas[0], alphas[-1]])\n",
    "plt.title(\"MAE\")\n",
    "\n"
   ]
  },
  {
   "cell_type": "code",
   "execution_count": 80,
   "metadata": {},
   "outputs": [
    {
     "name": "stdout",
     "output_type": "stream",
     "text": [
      "20\n",
      "1\n"
     ]
    }
   ],
   "source": [
    "print(grid_rid.cv_results_['rank_test_neg_mean_squared_error'][0])\n",
    "print(grid_rid.cv_results_['rank_test_neg_mean_absolute_error'][0])"
   ]
  },
  {
   "cell_type": "code",
   "execution_count": 33,
   "metadata": {
    "cell_id": "62b204cf-1a63-4405-a9c1-9ad8644c548e",
    "tags": []
   },
   "outputs": [
    {
     "name": "stdout",
     "output_type": "stream",
     "text": [
      "Best parameter alpha:0.06158482110660264, MSE=0.00169159293806167, MAE=0.023470022931055663\n"
     ]
    }
   ],
   "source": [
    "# 19 and 0 comes from the rank returned by 'grid_rid.cv_results_'\n",
    "print(\"Best parameter alpha:%s, MSE=%s, MAE=%s\" % (grid_rid.best_params_['alpha'], -MSE_rid[19], -MAE_rid[0] ))"
   ]
  },
  {
   "cell_type": "markdown",
   "metadata": {
    "cell_id": "bdd82223-fddf-4aee-85ba-0f116331aa1e",
    "tags": []
   },
   "source": [
    "## Let now see how the Gridsearch with **Lasso** perform:"
   ]
  },
  {
   "cell_type": "code",
   "execution_count": 35,
   "metadata": {
    "cell_id": "0974f23f-2d7f-4fd0-b59a-dc876014571e",
    "tags": []
   },
   "outputs": [
    {
     "name": "stderr",
     "output_type": "stream",
     "text": [
      "C:\\Users\\GP_HP\\anaconda3\\lib\\site-packages\\sklearn\\linear_model\\_coordinate_descent.py:476: ConvergenceWarning: Objective did not converge. You might want to increase the number of iterations. Duality gap: 0.019956937670463953, tolerance: 8.428940747727037e-05\n",
      "  positive)\n"
     ]
    }
   ],
   "source": [
    "alphas = np.logspace(-5, -3.5, 20) \n",
    "params = [{'alpha': alphas}]\n",
    "\n",
    "lasso = Lasso(random_state=90, max_iter=1000)\n",
    "grid_las = GridSearchCV(lasso, params, cv=tss,scoring = ['neg_mean_squared_error','neg_mean_absolute_error'], refit= 'neg_mean_squared_error', n_jobs = -1)\n",
    "grid_las.fit(x_scaled_train, y_train)\n"
   ]
  },
  {
   "cell_type": "code",
   "execution_count": 36,
   "metadata": {},
   "outputs": [
    {
     "data": {
      "text/plain": [
       "<matplotlib.legend.Legend at 0x24162b24e88>"
      ]
     },
     "execution_count": 36,
     "metadata": {},
     "output_type": "execute_result"
    },
    {
     "data": {
      "image/png": "[encoded data removed]",
      "text/plain": [
       "<Figure size 1080x432 with 1 Axes>"
      ]
     },
     "metadata": {
      "needs_background": "light"
     },
     "output_type": "display_data"
    }
   ],
   "source": [
    "y_pred = grid_las.predict(x_scaled_test)\n",
    "\n",
    "\n",
    "\n",
    "plt.figure().set_size_inches(15, 6)\n",
    "line_pred, = plt.plot(data.iloc[408:,0], y_pred, color = 'red', lw = 2)\n",
    "line_true, = plt.plot(data.iloc[408:,0], y_test, lw = 2)\n",
    "plt.grid()\n",
    "\n",
    "plt.ylabel('SP500 monthly return rate')\n",
    "plt.xlabel('Date')\n",
    "plt.title('Prediction')\n",
    "plt.legend([line_pred, line_true], ['Predicted', 'Real'])"
   ]
  },
  {
   "cell_type": "markdown",
   "metadata": {},
   "source": [
    "### Lasso seems to go better than Ridge, and that is predictable since Lasso works better with deep dataset where it can select the best features, however there is a high probability that we are overfitting."
   ]
  },
  {
   "cell_type": "code",
   "execution_count": 37,
   "metadata": {
    "cell_id": "62587bcb-e158-4f6c-bc74-ae1c9dbebdcc",
    "tags": []
   },
   "outputs": [
    {
     "data": {
      "text/plain": [
       "Text(0.5, 1.0, 'MAE')"
      ]
     },
     "execution_count": 37,
     "metadata": {},
     "output_type": "execute_result"
    },
    {
     "data": {
      "image/png": "[encoded data removed]",
      "text/plain": [
       "<Figure size 1080x432 with 2 Axes>"
      ]
     },
     "metadata": {
      "needs_background": "light"
     },
     "output_type": "display_data"
    }
   ],
   "source": [
    "MSE_las = grid_las.cv_results_['mean_test_neg_mean_squared_error']\n",
    "MSE_std_las = grid_las.cv_results_['std_test_neg_mean_squared_error']\n",
    "\n",
    "MAE_las = grid_las.cv_results_['mean_test_neg_mean_absolute_error']\n",
    "MAE_std_las = grid_las.cv_results_['std_test_neg_mean_absolute_error']\n",
    "\n",
    "plt.figure().set_size_inches(15, 6)\n",
    "\n",
    "ax = plt.subplot(1,2,1)\n",
    "plt.semilogx(alphas, MSE_las)\n",
    "std_error = MSE_std_las/ np.sqrt(5) # 5 because TimeSeriesSplit has as default value n_folds = 5\n",
    "\n",
    "plt.semilogx(alphas, MSE_las + std_error, 'b--')\n",
    "plt.semilogx(alphas, MSE_las - std_error, 'b--')\n",
    "\n",
    "plt.fill_between(alphas, MSE_las + std_error, MSE_las - std_error, alpha=0.2)\n",
    "\n",
    "plt.ylabel('MSE +/- std error')\n",
    "plt.xlabel('alpha')\n",
    "plt.axhline(np.max(MSE_las), linestyle='--', color='.5')\n",
    "plt.xlim([alphas[0], alphas[-1]])\n",
    "plt.title(\"MSE\")\n",
    "\n",
    "\n",
    "ax = plt.subplot(1,2,2)\n",
    "plt.semilogx(alphas, MAE_las)\n",
    "std_error = MAE_std_las/ np.sqrt(5)\n",
    "\n",
    "plt.semilogx(alphas, MAE_las + std_error, 'b--')\n",
    "plt.semilogx(alphas, MAE_las - std_error, 'b--')\n",
    "\n",
    "plt.fill_between(alphas, MAE_las + std_error, MAE_las - std_error, alpha=0.2)\n",
    "\n",
    "plt.ylabel('MAE +/- std error')\n",
    "plt.xlabel('alpha')\n",
    "plt.axhline(np.max(MAE_las), linestyle='--', color='.5')\n",
    "plt.xlim([alphas[0], alphas[-1]])\n",
    "plt.title(\"MAE\")"
   ]
  },
  {
   "cell_type": "code",
   "execution_count": 81,
   "metadata": {},
   "outputs": [
    {
     "name": "stdout",
     "output_type": "stream",
     "text": [
      "20\n",
      "20\n"
     ]
    }
   ],
   "source": [
    "print(grid_las.cv_results_['rank_test_neg_mean_squared_error'][0])\n",
    "print(grid_las.cv_results_['rank_test_neg_mean_absolute_error'][0])"
   ]
  },
  {
   "cell_type": "code",
   "execution_count": 82,
   "metadata": {
    "scrolled": true
   },
   "outputs": [
    {
     "name": "stdout",
     "output_type": "stream",
     "text": [
      "Best parameter alpha:0.0001062467830894041, MSE=0.0007258178285414389, MAE=0.019338014130423263\n"
     ]
    }
   ],
   "source": [
    "# 19 and 19 comes from the rank returned by 'grid_rid.cv_results_'\n",
    "print(\"Best parameter alpha:%s, MSE=%s, MAE=%s\" % (grid_las.best_params_['alpha'], -MSE_las[19], -MAE_las[19] ))"
   ]
  },
  {
   "cell_type": "markdown",
   "metadata": {
    "cell_id": "f36b964c-9820-4283-9807-c0c55afca1f0",
    "tags": []
   },
   "source": [
    "## Gridsearch with ElasticNet\n",
    "### Let's see if a combination of Lasso and Ridge could return better results\n"
   ]
  },
  {
   "cell_type": "code",
   "execution_count": 49,
   "metadata": {
    "cell_id": "43efc2a3-41b5-4239-96f1-0e98533e4b92",
    "tags": []
   },
   "outputs": [
    {
     "data": {
      "text/plain": [
       "GridSearchCV(cv=TimeSeriesSplit(max_train_size=None, n_splits=5),\n",
       "             error_score=nan,\n",
       "             estimator=ElasticNet(alpha=1.0, copy_X=True, fit_intercept=True,\n",
       "                                  l1_ratio=0.5, max_iter=1000, normalize=False,\n",
       "                                  positive=False, precompute=False,\n",
       "                                  random_state=90, selection='cyclic',\n",
       "                                  tol=0.0001, warm_start=False),\n",
       "             iid='deprecated', n_jobs=-1,\n",
       "             param_grid={'alpha': array([1.00000000e-02,...\n",
       "       2.03091762e+02, 2.89426612e+02, 4.12462638e+02, 5.87801607e+02,\n",
       "       8.37677640e+02, 1.19377664e+03, 1.70125428e+03, 2.42446202e+03,\n",
       "       3.45510729e+03, 4.92388263e+03, 7.01703829e+03, 1.00000000e+04]),\n",
       "                         'l1_ratio': [0.2, 0.4, 0.6, 0.8]},\n",
       "             pre_dispatch='2*n_jobs', refit='neg_mean_squared_error',\n",
       "             return_train_score=False,\n",
       "             scoring=['neg_mean_squared_error', 'neg_mean_absolute_error'],\n",
       "             verbose=0)"
      ]
     },
     "execution_count": 49,
     "metadata": {},
     "output_type": "execute_result"
    }
   ],
   "source": [
    "\n",
    "elastic = ElasticNet(random_state= 90)\n",
    "params = {'alpha':np.logspace(-2,4,40),'l1_ratio':[.2,.4,.6,.8]}\n",
    "grid_enet = GridSearchCV(estimator=elastic,\n",
    "                    param_grid = params,\n",
    "                    scoring=['neg_mean_squared_error','neg_mean_absolute_error'],\n",
    "                    refit = 'neg_mean_squared_error',\n",
    "                    cv = tss, \n",
    "                    n_jobs = -1)\n",
    "grid_enet.fit(x_scaled_train, y_train)\n",
    " "
   ]
  },
  {
   "cell_type": "code",
   "execution_count": 50,
   "metadata": {},
   "outputs": [
    {
     "data": {
      "text/plain": [
       "<matplotlib.legend.Legend at 0x2415f72df08>"
      ]
     },
     "execution_count": 50,
     "metadata": {},
     "output_type": "execute_result"
    },
    {
     "data": {
      "image/png": "[encoded data removed]",
      "text/plain": [
       "<Figure size 1080x432 with 1 Axes>"
      ]
     },
     "metadata": {
      "needs_background": "light"
     },
     "output_type": "display_data"
    }
   ],
   "source": [
    "y_pred = grid_enet.predict(x_scaled_test)\n",
    "\n",
    "\n",
    "\n",
    "plt.figure().set_size_inches(15, 6)\n",
    "line_pred, = plt.plot(data.iloc[408:,0], y_pred, color = 'red', lw = 2)\n",
    "line_true, = plt.plot(data.iloc[408:,0], y_test, lw = 2)\n",
    "plt.grid()\n",
    "\n",
    "plt.ylabel('SP500 monthly return rate')\n",
    "plt.xlabel('Date')\n",
    "plt.title('Prediction')\n",
    "plt.legend([line_pred, line_true], ['Predicted', 'Real'])"
   ]
  },
  {
   "cell_type": "markdown",
   "metadata": {},
   "source": [
    "## Even though ElasticNet doesn't follow exactly as Lasso and Ridge, I think we could obtain better results on the test set since it almost catches all the fluctuations"
   ]
  },
  {
   "cell_type": "code",
   "execution_count": 77,
   "metadata": {},
   "outputs": [
    {
     "name": "stdout",
     "output_type": "stream",
     "text": [
      "4\n",
      "4\n"
     ]
    }
   ],
   "source": [
    "print(grid_enet.cv_results_['rank_test_neg_mean_squared_error'][0])\n",
    "print(grid_enet.cv_results_['rank_test_neg_mean_absolute_error'][0])"
   ]
  },
  {
   "cell_type": "code",
   "execution_count": 57,
   "metadata": {
    "scrolled": true
   },
   "outputs": [
    {
     "name": "stdout",
     "output_type": "stream",
     "text": [
      "Best parameter:{'alpha': 0.014251026703029978, 'l1_ratio': 0.2}, MSE=0.00090, MAE=0.02322\n"
     ]
    }
   ],
   "source": [
    "MSE_enet = grid_enet.cv_results_['mean_test_neg_mean_squared_error']\n",
    "MAE_enet = grid_enet.cv_results_['mean_test_neg_mean_absolute_error']\n",
    "\n",
    "# 3 and 3 comes from the 1°st of the rank returned by 'grid_enet.cv_results_'\n",
    "print(\"Best parameter:{}, MSE={:.5f}, MAE={:.5f}\".format(grid_enet.best_params_, -MSE_enet[3], -MAE_enet[3])) "
   ]
  },
  {
   "cell_type": "markdown",
   "metadata": {},
   "source": [
    "### Until now as expected ElasticNet is the better one(looking at MSE)"
   ]
  },
  {
   "cell_type": "markdown",
   "metadata": {
    "cell_id": "16de3cce-dfc5-4a7b-9d66-dce387a98258",
    "tags": []
   },
   "source": [
    "# Polynomial features\n",
    "\n",
    "### I will try polynomial features to see if I can get better result, I think that the combination of the features could produce a better result"
   ]
  },
  {
   "cell_type": "code",
   "execution_count": 64,
   "metadata": {
    "cell_id": "bdc66902-4e13-46dd-8339-8f6553d8326e",
    "tags": []
   },
   "outputs": [],
   "source": [
    "poly = PolynomialFeatures(2)\n",
    "X_poly = poly.fit_transform(x_scaled)"
   ]
  },
  {
   "cell_type": "code",
   "execution_count": 65,
   "metadata": {},
   "outputs": [],
   "source": [
    "x_scaled_train = X_poly[:408]\n",
    "\n",
    "\n",
    "x_scaled_test = X_poly[408:]"
   ]
  },
  {
   "cell_type": "code",
   "execution_count": 71,
   "metadata": {
    "cell_id": "7d6175f8-32a4-41f3-8221-cfaafaff72dc",
    "tags": []
   },
   "outputs": [
    {
     "data": {
      "text/plain": [
       "GridSearchCV(cv=TimeSeriesSplit(max_train_size=None, n_splits=5),\n",
       "             error_score=nan,\n",
       "             estimator=ElasticNet(alpha=1.0, copy_X=True, fit_intercept=True,\n",
       "                                  l1_ratio=0.5, max_iter=1000, normalize=False,\n",
       "                                  positive=False, precompute=False,\n",
       "                                  random_state=90, selection='cyclic',\n",
       "                                  tol=0.0001, warm_start=False),\n",
       "             iid='deprecated', n_jobs=-1,\n",
       "             param_grid={'alpha': array([1.00000000e-02,...\n",
       "       2.03091762e+02, 2.89426612e+02, 4.12462638e+02, 5.87801607e+02,\n",
       "       8.37677640e+02, 1.19377664e+03, 1.70125428e+03, 2.42446202e+03,\n",
       "       3.45510729e+03, 4.92388263e+03, 7.01703829e+03, 1.00000000e+04]),\n",
       "                         'l1_ratio': [0.2, 0.4, 0.6, 0.8]},\n",
       "             pre_dispatch='2*n_jobs', refit='neg_mean_squared_error',\n",
       "             return_train_score=False,\n",
       "             scoring=['neg_mean_squared_error', 'neg_mean_absolute_error'],\n",
       "             verbose=0)"
      ]
     },
     "execution_count": 71,
     "metadata": {},
     "output_type": "execute_result"
    }
   ],
   "source": [
    "params = {'alpha':np.logspace(-2,4,40),'l1_ratio':[.2,.4,.6,.8]}\n",
    "\n",
    "grid_poly = GridSearchCV(elastic, params, cv = tss,scoring = ['neg_mean_squared_error', 'neg_mean_absolute_error'], refit = 'neg_mean_squared_error', n_jobs = -1)\n",
    "grid_poly.fit(x_scaled_train, y_train)\n",
    "\n"
   ]
  },
  {
   "cell_type": "code",
   "execution_count": 72,
   "metadata": {},
   "outputs": [
    {
     "data": {
      "text/plain": [
       "<matplotlib.legend.Legend at 0x24163205c88>"
      ]
     },
     "execution_count": 72,
     "metadata": {},
     "output_type": "execute_result"
    },
    {
     "data": {
      "image/png": "[encoded data removed]",
      "text/plain": [
       "<Figure size 1080x432 with 1 Axes>"
      ]
     },
     "metadata": {
      "needs_background": "light"
     },
     "output_type": "display_data"
    }
   ],
   "source": [
    "y_pred = grid_poly.predict(x_scaled_test)\n",
    "\n",
    "\n",
    "\n",
    "plt.figure().set_size_inches(15, 6)\n",
    "line_pred, = plt.plot(data.iloc[408:,0], y_pred, color = 'red', lw = 2)\n",
    "line_true, = plt.plot(data.iloc[408:,0], y_test, lw = 2)\n",
    "plt.grid()\n",
    "\n",
    "plt.ylabel('SP500 monthly return rate')\n",
    "plt.xlabel('Date')\n",
    "plt.title('Prediction')\n",
    "plt.legend([line_pred, line_true], ['Predicted', 'Real'])"
   ]
  },
  {
   "cell_type": "code",
   "execution_count": 73,
   "metadata": {},
   "outputs": [
    {
     "name": "stdout",
     "output_type": "stream",
     "text": [
      "15\n",
      "9\n"
     ]
    }
   ],
   "source": [
    "print(grid_poly.cv_results_['rank_test_neg_mean_squared_error'][0])\n",
    "print(grid_poly.cv_results_['rank_test_neg_mean_absolute_error'][0])"
   ]
  },
  {
   "cell_type": "code",
   "execution_count": 76,
   "metadata": {},
   "outputs": [
    {
     "name": "stdout",
     "output_type": "stream",
     "text": [
      "Best parameter:{'alpha': 0.01, 'l1_ratio': 0.4}, MSE=0.00155, MAE=0.02624\n"
     ]
    }
   ],
   "source": [
    "MSE_poly = grid_poly.cv_results_['mean_test_neg_mean_squared_error']\n",
    "MAE_poly = grid_poly.cv_results_['mean_test_neg_mean_absolute_error']\n",
    "\n",
    "\n",
    "print(\"Best parameter:{}, MSE={:.5f}, MAE={:.5f}\".format(grid_poly.best_params_, -MSE_poly[14], -MAE_poly[8]))"
   ]
  },
  {
   "cell_type": "markdown",
   "metadata": {},
   "source": [
    "### The result is worse than I excpected"
   ]
  },
  {
   "cell_type": "markdown",
   "metadata": {
    "cell_id": "68f55a62-6960-4f09-a0fb-9059e902d251",
    "tags": []
   },
   "source": [
    "## Now I will look at the model that almost always goes better than everyone.Random forest\n",
    "\n",
    "### I start with a simple Decision Tree\n"
   ]
  },
  {
   "cell_type": "code",
   "execution_count": 84,
   "metadata": {},
   "outputs": [],
   "source": [
    "# re-set train/test modified for polynomial\n",
    "x_scaled_train = x_scaled[:408]\n",
    "y_train = y[:408]\n",
    "\n",
    "x_scaled_test = x_scaled[408:]\n",
    "y_test = y[408:]"
   ]
  },
  {
   "cell_type": "code",
   "execution_count": 85,
   "metadata": {
    "cell_id": "ebca6205-9e25-4969-a870-812e41a5593d",
    "tags": []
   },
   "outputs": [
    {
     "name": "stdout",
     "output_type": "stream",
     "text": [
      "0.0013404652199591842 {'max_depth': 3}\n"
     ]
    }
   ],
   "source": [
    "dt = DecisionTreeRegressor()\n",
    "parameters = {'max_depth': range(1,19)}\n",
    "\n",
    "grid_dt = GridSearchCV(dt, parameters, cv = tss, scoring =[\"neg_mean_squared_error\",\"neg_mean_absolute_error\"],refit =\"neg_mean_squared_error\" )\n",
    "grid_dt.fit(x_scaled_train,y_train)\n",
    "\n"
   ]
  },
  {
   "cell_type": "code",
   "execution_count": null,
   "metadata": {},
   "outputs": [],
   "source": [
    "y_pred = grid_dt.predict(x_scaled_test)\n",
    "\n",
    "\n",
    "\n",
    "plt.figure().set_size_inches(15, 6)\n",
    "line_pred, = plt.plot(data.iloc[408:,0], y_pred, color = 'red', lw = 2)\n",
    "line_true, = plt.plot(data.iloc[408:,0], y_test, lw = 2)\n",
    "plt.grid()\n",
    "\n",
    "plt.ylabel('SP500 monthly return rate')\n",
    "plt.xlabel('Date')\n",
    "plt.title('Prediction')\n",
    "plt.legend([line_pred, line_true], ['Predicted', 'Real'])"
   ]
  },
  {
   "cell_type": "code",
   "execution_count": 86,
   "metadata": {},
   "outputs": [
    {
     "name": "stdout",
     "output_type": "stream",
     "text": [
      "3\n",
      "3\n"
     ]
    }
   ],
   "source": [
    "print(grid_dt.cv_results_['rank_test_neg_mean_squared_error'][0])\n",
    "print(grid_dt.cv_results_['rank_test_neg_mean_absolute_error'][0])"
   ]
  },
  {
   "cell_type": "code",
   "execution_count": 87,
   "metadata": {},
   "outputs": [
    {
     "name": "stdout",
     "output_type": "stream",
     "text": [
      "Best parameter:{'max_depth': 3}, MSE=0.00134, MAE=0.02771\n"
     ]
    }
   ],
   "source": [
    "MSE_dt = grid_dt.cv_results_['mean_test_neg_mean_squared_error']\n",
    "MAE_dt = grid_dt.cv_results_['mean_test_neg_mean_absolute_error']\n",
    "\n",
    "\n",
    "print(\"Best parameter:{}, MSE={:.5f}, MAE={:.5f}\".format(grid_dt.best_params_, -MSE_dt[2], -MAE_dt[2]))"
   ]
  },
  {
   "cell_type": "markdown",
   "metadata": {
    "cell_id": "54d844b7-7d6a-421d-a820-ec21a4a17dab",
    "tags": []
   },
   "source": [
    "## Random Forest"
   ]
  },
  {
   "cell_type": "code",
   "execution_count": 88,
   "metadata": {
    "cell_id": "fbfca30c-39a3-4634-bde4-090ec88aa36d",
    "tags": []
   },
   "outputs": [
    {
     "data": {
      "text/plain": [
       "GridSearchCV(cv=TimeSeriesSplit(max_train_size=None, n_splits=5),\n",
       "             error_score=nan,\n",
       "             estimator=RandomForestRegressor(bootstrap=True, ccp_alpha=0.0,\n",
       "                                             criterion='mse', max_depth=None,\n",
       "                                             max_features='auto',\n",
       "                                             max_leaf_nodes=None,\n",
       "                                             max_samples=None,\n",
       "                                             min_impurity_decrease=0.0,\n",
       "                                             min_impurity_split=None,\n",
       "                                             min_samples_leaf=1,\n",
       "                                             min_samples_split=2,\n",
       "                                             min_weight_fraction_leaf=0.0,\n",
       "                                             n_e...ators=300, n_jobs=None,\n",
       "                                             oob_score=True, random_state=None,\n",
       "                                             verbose=0, warm_start=False),\n",
       "             iid='deprecated', n_jobs=-1,\n",
       "             param_grid={'max_depth': [6, 8], 'min_samples_leaf': [2, 3, 6],\n",
       "                         'min_samples_split': [12, 15, 18]},\n",
       "             pre_dispatch='2*n_jobs', refit='neg_mean_squared_error',\n",
       "             return_train_score=False,\n",
       "             scoring=['neg_mean_squared_error', 'neg_mean_absolute_error'],\n",
       "             verbose=0)"
      ]
     },
     "execution_count": 88,
     "metadata": {},
     "output_type": "execute_result"
    }
   ],
   "source": [
    "rf = RandomForestRegressor(n_estimators = 300, oob_score = True) \n",
    "params = {'max_depth': [6,8], 'min_samples_split': [12,15,18], 'min_samples_leaf': [2,3,6]}\n",
    "\n",
    "grid_rf = GridSearchCV(rf, param_grid = params, cv = tss, scoring = ['neg_mean_squared_error','neg_mean_absolute_error' ], refit = 'neg_mean_squared_error',n_jobs = -1)\n",
    "\n",
    "grid_rf.fit(x_scaled_train,y_train)\n",
    "\n"
   ]
  },
  {
   "cell_type": "code",
   "execution_count": 89,
   "metadata": {},
   "outputs": [
    {
     "data": {
      "text/plain": [
       "<matplotlib.legend.Legend at 0x24163183288>"
      ]
     },
     "execution_count": 89,
     "metadata": {},
     "output_type": "execute_result"
    },
    {
     "data": {
      "image/png": "[encoded data removed]",
      "text/plain": [
       "<Figure size 1080x432 with 1 Axes>"
      ]
     },
     "metadata": {
      "needs_background": "light"
     },
     "output_type": "display_data"
    }
   ],
   "source": [
    "y_pred = grid_rf.predict(x_scaled_test)\n",
    "\n",
    "\n",
    "\n",
    "plt.figure().set_size_inches(15, 6)\n",
    "line_pred, = plt.plot(data.iloc[408:,0], y_pred, color = 'red', lw = 2)\n",
    "line_true, = plt.plot(data.iloc[408:,0], y_test, lw = 2)\n",
    "plt.grid()\n",
    "\n",
    "plt.ylabel('SP500 monthly return rate')\n",
    "plt.xlabel('Date')\n",
    "plt.title('Prediction')\n",
    "plt.legend([line_pred, line_true], ['Predicted', 'Real'])"
   ]
  },
  {
   "cell_type": "code",
   "execution_count": 90,
   "metadata": {},
   "outputs": [
    {
     "name": "stdout",
     "output_type": "stream",
     "text": [
      "8\n",
      "8\n"
     ]
    }
   ],
   "source": [
    "print(grid_rf.cv_results_['rank_test_neg_mean_squared_error'][0])\n",
    "print(grid_rf.cv_results_['rank_test_neg_mean_absolute_error'][0])"
   ]
  },
  {
   "cell_type": "code",
   "execution_count": 91,
   "metadata": {},
   "outputs": [
    {
     "name": "stdout",
     "output_type": "stream",
     "text": [
      "Best parameter:{'max_depth': 8, 'min_samples_leaf': 2, 'min_samples_split': 12}, MSE=0.00090, MAE=0.02253\n"
     ]
    }
   ],
   "source": [
    "MSE_rf = grid_rf.cv_results_['mean_test_neg_mean_squared_error']\n",
    "MAE_rf = grid_rf.cv_results_['mean_test_neg_mean_absolute_error']\n",
    "\n",
    "\n",
    "print(\"Best parameter:{}, MSE={:.5f}, MAE={:.5f}\".format(grid_rf.best_params_, -MSE_rf[7], -MAE_rf[7]))"
   ]
  },
  {
   "cell_type": "markdown",
   "metadata": {
    "cell_id": "027a3dd1-f80c-4cff-93a6-215498ea1817",
    "tags": []
   },
   "source": [
    "# Neural Networks\n",
    "\n",
    "## I will try NN although I know that often is not necessary since random forest works very good"
   ]
  },
  {
   "cell_type": "code",
   "execution_count": 93,
   "metadata": {
    "cell_id": "add20820-2488-4ee6-b974-2f8cef9dfa7e",
    "tags": []
   },
   "outputs": [
    {
     "name": "stdout",
     "output_type": "stream",
     "text": [
      "Model: \"sequential_1\"\n",
      "_________________________________________________________________\n",
      "Layer (type)                 Output Shape              Param #   \n",
      "=================================================================\n",
      "dense_1 (Dense)              (None, 76)                11476     \n",
      "_________________________________________________________________\n",
      "dropout_1 (Dropout)          (None, 76)                0         \n",
      "_________________________________________________________________\n",
      "dense_2 (Dense)              (None, 76)                5852      \n",
      "_________________________________________________________________\n",
      "dropout_2 (Dropout)          (None, 76)                0         \n",
      "_________________________________________________________________\n",
      "dense_3 (Dense)              (None, 1)                 77        \n",
      "=================================================================\n",
      "Total params: 17,405\n",
      "Trainable params: 17,405\n",
      "Non-trainable params: 0\n",
      "_________________________________________________________________\n"
     ]
    }
   ],
   "source": [
    "# initializing the NN\n",
    "regressor = Sequential()\n",
    "\n",
    "# first layer (input)\n",
    "regressor.add(Dense(units = 76, activation = 'relu', input_dim = 150))\n",
    "\n",
    "# dropout(to avoid overfitting)\n",
    "regressor.add(Dropout(.2))\n",
    "\n",
    "# second hidden layer\n",
    "regressor.add(Dense(units = 76,  activation = 'relu'))\n",
    "\n",
    "# dropout(to avoid overfitting)\n",
    "regressor.add(Dropout(.2))\n",
    "\n",
    "# Adding the output layer\n",
    "regressor.add(Dense(units = 1, activation = 'linear'))\n",
    "\n",
    "regressor.summary()\n",
    "\n",
    "regressor.compile(optimizer = Adam(), loss = 'mean_squared_error', metrics = ['mae'])"
   ]
  },
  {
   "cell_type": "code",
   "execution_count": 94,
   "metadata": {
    "cell_id": "391ac7ae-01b1-4462-bfbe-2e8238569aac",
    "tags": []
   },
   "outputs": [
    {
     "name": "stdout",
     "output_type": "stream",
     "text": [
      "WARNING:tensorflow:From C:\\Users\\GP_HP\\anaconda3\\lib\\site-packages\\keras\\backend\\tensorflow_backend.py:422: The name tf.global_variables is deprecated. Please use tf.compat.v1.global_variables instead.\n",
      "\n",
      "Epoch 1/100\n",
      "408/408 [==============================] - 1s 1ms/step - loss: 0.3502 - mae: 0.4509\n",
      "Epoch 2/100\n",
      "408/408 [==============================] - 0s 278us/step - loss: 0.2083 - mae: 0.3550\n",
      "Epoch 3/100\n",
      "408/408 [==============================] - 0s 400us/step - loss: 0.1587 - mae: 0.3036\n",
      "Epoch 4/100\n",
      "408/408 [==============================] - 0s 622us/step - loss: 0.1201 - mae: 0.2612\n",
      "Epoch 5/100\n",
      "408/408 [==============================] - 0s 542us/step - loss: 0.1056 - mae: 0.2421\n",
      "Epoch 6/100\n",
      "408/408 [==============================] - 0s 508us/step - loss: 0.0806 - mae: 0.2209\n",
      "Epoch 7/100\n",
      "408/408 [==============================] - 0s 366us/step - loss: 0.0735 - mae: 0.2051\n",
      "Epoch 8/100\n",
      "408/408 [==============================] - 0s 680us/step - loss: 0.0576 - mae: 0.1864\n",
      "Epoch 9/100\n",
      "408/408 [==============================] - 0s 381us/step - loss: 0.0515 - mae: 0.1718\n",
      "Epoch 10/100\n",
      "408/408 [==============================] - 0s 261us/step - loss: 0.0526 - mae: 0.1723\n",
      "Epoch 11/100\n",
      "408/408 [==============================] - 0s 541us/step - loss: 0.0448 - mae: 0.1634\n",
      "Epoch 12/100\n",
      "408/408 [==============================] - 0s 419us/step - loss: 0.0444 - mae: 0.1592\n",
      "Epoch 13/100\n",
      "408/408 [==============================] - 0s 365us/step - loss: 0.0322 - mae: 0.1331\n",
      "Epoch 14/100\n",
      "408/408 [==============================] - 0s 653us/step - loss: 0.0284 - mae: 0.1287\n",
      "Epoch 15/100\n",
      "408/408 [==============================] - 0s 372us/step - loss: 0.0285 - mae: 0.1282\n",
      "Epoch 16/100\n",
      "408/408 [==============================] - 0s 529us/step - loss: 0.0249 - mae: 0.1172\n",
      "Epoch 17/100\n",
      "408/408 [==============================] - 0s 561us/step - loss: 0.0211 - mae: 0.1117\n",
      "Epoch 18/100\n",
      "408/408 [==============================] - 0s 541us/step - loss: 0.0205 - mae: 0.1095\n",
      "Epoch 19/100\n",
      "408/408 [==============================] - 0s 294us/step - loss: 0.0174 - mae: 0.1021\n",
      "Epoch 20/100\n",
      "408/408 [==============================] - 0s 561us/step - loss: 0.0177 - mae: 0.1036\n",
      "Epoch 21/100\n",
      "408/408 [==============================] - 0s 407us/step - loss: 0.0151 - mae: 0.0974\n",
      "Epoch 22/100\n",
      "408/408 [==============================] - 0s 343us/step - loss: 0.0165 - mae: 0.0993\n",
      "Epoch 23/100\n",
      "408/408 [==============================] - 0s 426us/step - loss: 0.0139 - mae: 0.0914\n",
      "Epoch 24/100\n",
      "408/408 [==============================] - 0s 349us/step - loss: 0.0145 - mae: 0.0918\n",
      "Epoch 25/100\n",
      "408/408 [==============================] - 0s 404us/step - loss: 0.0111 - mae: 0.0809\n",
      "Epoch 26/100\n",
      "408/408 [==============================] - 0s 358us/step - loss: 0.0104 - mae: 0.0788\n",
      "Epoch 27/100\n",
      "408/408 [==============================] - 0s 806us/step - loss: 0.0134 - mae: 0.0858\n",
      "Epoch 28/100\n",
      "408/408 [==============================] - 0s 343us/step - loss: 0.0093 - mae: 0.0732\n",
      "Epoch 29/100\n",
      "408/408 [==============================] - 0s 510us/step - loss: 0.0093 - mae: 0.0749\n",
      "Epoch 30/100\n",
      "408/408 [==============================] - 0s 548us/step - loss: 0.0082 - mae: 0.0701\n",
      "Epoch 31/100\n",
      "408/408 [==============================] - 0s 353us/step - loss: 0.0091 - mae: 0.0745\n",
      "Epoch 32/100\n",
      "408/408 [==============================] - 0s 634us/step - loss: 0.0089 - mae: 0.0703\n",
      "Epoch 33/100\n",
      "408/408 [==============================] - 0s 560us/step - loss: 0.0078 - mae: 0.0675\n",
      "Epoch 34/100\n",
      "408/408 [==============================] - 0s 405us/step - loss: 0.0067 - mae: 0.0627\n",
      "Epoch 35/100\n",
      "408/408 [==============================] - 0s 331us/step - loss: 0.0064 - mae: 0.0603\n",
      "Epoch 36/100\n",
      "408/408 [==============================] - 0s 407us/step - loss: 0.0082 - mae: 0.0658\n",
      "Epoch 37/100\n",
      "408/408 [==============================] - 0s 754us/step - loss: 0.0052 - mae: 0.0580\n",
      "Epoch 38/100\n",
      "408/408 [==============================] - 0s 368us/step - loss: 0.0057 - mae: 0.0572\n",
      "Epoch 39/100\n",
      "408/408 [==============================] - 0s 405us/step - loss: 0.0053 - mae: 0.0556\n",
      "Epoch 40/100\n",
      "408/408 [==============================] - 0s 522us/step - loss: 0.0056 - mae: 0.0570\n",
      "Epoch 41/100\n",
      "408/408 [==============================] - 0s 305us/step - loss: 0.0054 - mae: 0.0557\n",
      "Epoch 42/100\n",
      "408/408 [==============================] - 0s 476us/step - loss: 0.0053 - mae: 0.0539\n",
      "Epoch 43/100\n",
      "408/408 [==============================] - 0s 432us/step - loss: 0.0051 - mae: 0.0537\n",
      "Epoch 44/100\n",
      "408/408 [==============================] - 0s 515us/step - loss: 0.0046 - mae: 0.0500\n",
      "Epoch 45/100\n",
      "408/408 [==============================] - 0s 931us/step - loss: 0.0037 - mae: 0.0457\n",
      "Epoch 46/100\n",
      "408/408 [==============================] - 0s 319us/step - loss: 0.0039 - mae: 0.0478\n",
      "Epoch 47/100\n",
      "408/408 [==============================] - 0s 485us/step - loss: 0.0041 - mae: 0.0503\n",
      "Epoch 48/100\n",
      "408/408 [==============================] - 0s 707us/step - loss: 0.0037 - mae: 0.0451\n",
      "Epoch 49/100\n",
      "408/408 [==============================] - 0s 527us/step - loss: 0.0037 - mae: 0.0453\n",
      "Epoch 50/100\n",
      "408/408 [==============================] - 0s 580us/step - loss: 0.0033 - mae: 0.0438\n",
      "Epoch 51/100\n",
      "408/408 [==============================] - 0s 573us/step - loss: 0.0036 - mae: 0.0442\n",
      "Epoch 52/100\n",
      "408/408 [==============================] - 0s 479us/step - loss: 0.0040 - mae: 0.0474\n",
      "Epoch 53/100\n",
      "408/408 [==============================] - 0s 688us/step - loss: 0.0037 - mae: 0.0460\n",
      "Epoch 54/100\n",
      "408/408 [==============================] - 0s 691us/step - loss: 0.0031 - mae: 0.0414\n",
      "Epoch 55/100\n",
      "408/408 [==============================] - 0s 563us/step - loss: 0.0033 - mae: 0.0435\n",
      "Epoch 56/100\n",
      "408/408 [==============================] - 0s 562us/step - loss: 0.0024 - mae: 0.0378\n",
      "Epoch 57/100\n",
      "408/408 [==============================] - 0s 285us/step - loss: 0.0025 - mae: 0.0377\n",
      "Epoch 58/100\n",
      "408/408 [==============================] - 0s 351us/step - loss: 0.0026 - mae: 0.0382\n",
      "Epoch 59/100\n",
      "408/408 [==============================] - 0s 598us/step - loss: 0.0029 - mae: 0.0396\n",
      "Epoch 60/100\n",
      "408/408 [==============================] - 0s 351us/step - loss: 0.0027 - mae: 0.0396\n",
      "Epoch 61/100\n",
      "408/408 [==============================] - 0s 614us/step - loss: 0.0027 - mae: 0.0398\n",
      "Epoch 62/100\n",
      "408/408 [==============================] - 0s 482us/step - loss: 0.0028 - mae: 0.0403\n",
      "Epoch 63/100\n",
      "408/408 [==============================] - 0s 410us/step - loss: 0.0024 - mae: 0.0367\n",
      "Epoch 64/100\n",
      "408/408 [==============================] - 0s 371us/step - loss: 0.0026 - mae: 0.0382\n",
      "Epoch 65/100\n",
      "408/408 [==============================] - 0s 405us/step - loss: 0.0024 - mae: 0.0382\n",
      "Epoch 66/100\n",
      "408/408 [==============================] - 0s 627us/step - loss: 0.0023 - mae: 0.0376\n",
      "Epoch 67/100\n",
      "408/408 [==============================] - 0s 534us/step - loss: 0.0022 - mae: 0.0353\n",
      "Epoch 68/100\n",
      "408/408 [==============================] - 0s 436us/step - loss: 0.0023 - mae: 0.0361\n",
      "Epoch 69/100\n",
      "408/408 [==============================] - 0s 270us/step - loss: 0.0020 - mae: 0.0343\n",
      "Epoch 70/100\n",
      "408/408 [==============================] - 0s 513us/step - loss: 0.0022 - mae: 0.0358\n",
      "Epoch 71/100\n",
      "408/408 [==============================] - 0s 331us/step - loss: 0.0020 - mae: 0.0345\n",
      "Epoch 72/100\n",
      "408/408 [==============================] - 0s 532us/step - loss: 0.0021 - mae: 0.0348\n",
      "Epoch 73/100\n",
      "408/408 [==============================] - 0s 470us/step - loss: 0.0017 - mae: 0.0321\n",
      "Epoch 74/100\n",
      "408/408 [==============================] - 0s 387us/step - loss: 0.0020 - mae: 0.0320\n",
      "Epoch 75/100\n",
      "408/408 [==============================] - 0s 261us/step - loss: 0.0020 - mae: 0.0342\n",
      "Epoch 76/100\n",
      "408/408 [==============================] - 0s 375us/step - loss: 0.0021 - mae: 0.0340\n",
      "Epoch 77/100\n",
      "408/408 [==============================] - 0s 406us/step - loss: 0.0018 - mae: 0.0320\n",
      "Epoch 78/100\n",
      "408/408 [==============================] - 0s 486us/step - loss: 0.0020 - mae: 0.0340\n",
      "Epoch 79/100\n",
      "408/408 [==============================] - 0s 682us/step - loss: 0.0018 - mae: 0.0332\n",
      "Epoch 80/100\n",
      "408/408 [==============================] - 0s 602us/step - loss: 0.0018 - mae: 0.0321\n",
      "Epoch 81/100\n"
     ]
    },
    {
     "name": "stdout",
     "output_type": "stream",
     "text": [
      "408/408 [==============================] - 0s 613us/step - loss: 0.0019 - mae: 0.0337\n",
      "Epoch 82/100\n",
      "408/408 [==============================] - 0s 571us/step - loss: 0.0019 - mae: 0.0321\n",
      "Epoch 83/100\n",
      "408/408 [==============================] - 0s 498us/step - loss: 0.0017 - mae: 0.0312\n",
      "Epoch 84/100\n",
      "408/408 [==============================] - 0s 299us/step - loss: 0.0014 - mae: 0.0288\n",
      "Epoch 85/100\n",
      "408/408 [==============================] - 0s 414us/step - loss: 0.0016 - mae: 0.0310\n",
      "Epoch 86/100\n",
      "408/408 [==============================] - 0s 357us/step - loss: 0.0017 - mae: 0.0325\n",
      "Epoch 87/100\n",
      "408/408 [==============================] - 0s 490us/step - loss: 0.0014 - mae: 0.0285 0s - loss: 0.0014 - mae: 0.028\n",
      "Epoch 88/100\n",
      "408/408 [==============================] - 0s 624us/step - loss: 0.0016 - mae: 0.0305\n",
      "Epoch 89/100\n",
      "408/408 [==============================] - 0s 436us/step - loss: 0.0014 - mae: 0.0285\n",
      "Epoch 90/100\n",
      "408/408 [==============================] - 0s 432us/step - loss: 0.0016 - mae: 0.0316\n",
      "Epoch 91/100\n",
      "408/408 [==============================] - 0s 382us/step - loss: 0.0015 - mae: 0.0298\n",
      "Epoch 92/100\n",
      "408/408 [==============================] - 0s 362us/step - loss: 0.0017 - mae: 0.0306\n",
      "Epoch 93/100\n",
      "408/408 [==============================] - 0s 317us/step - loss: 0.0015 - mae: 0.0300\n",
      "Epoch 94/100\n",
      "408/408 [==============================] - 0s 625us/step - loss: 0.0014 - mae: 0.0284\n",
      "Epoch 95/100\n",
      "408/408 [==============================] - 0s 377us/step - loss: 0.0014 - mae: 0.0288\n",
      "Epoch 96/100\n",
      "408/408 [==============================] - 0s 487us/step - loss: 0.0012 - mae: 0.0269\n",
      "Epoch 97/100\n",
      "408/408 [==============================] - 0s 540us/step - loss: 0.0015 - mae: 0.0300\n",
      "Epoch 98/100\n",
      "408/408 [==============================] - 0s 547us/step - loss: 0.0012 - mae: 0.0270\n",
      "Epoch 99/100\n",
      "408/408 [==============================] - 0s 371us/step - loss: 0.0015 - mae: 0.0295\n",
      "Epoch 100/100\n",
      "408/408 [==============================] - 0s 263us/step - loss: 0.0013 - mae: 0.0269\n",
      "72/72 [==============================] - 0s 2ms/step\n",
      "Test loss: 0.002074517206185394\n",
      "Test accuracy: 0.0329153873026371\n"
     ]
    }
   ],
   "source": [
    "batch_size = 30\n",
    "epochs = 100\n",
    "history = regressor.fit(x_scaled_train, y_train,\n",
    "                         batch_size=batch_size,\n",
    "                         epochs=epochs,\n",
    "                         verbose=1)\n",
    "\n",
    "score = regressor.evaluate(x_scaled_test, y_test, verbose=1)\n",
    "print('Test loss:', score[0])\n",
    "print('Test accuracy:', score[1])"
   ]
  },
  {
   "cell_type": "code",
   "execution_count": 95,
   "metadata": {
    "cell_id": "c42f2a1e-2c46-4353-8386-f19fddc1ecfa",
    "tags": []
   },
   "outputs": [
    {
     "name": "stdout",
     "output_type": "stream",
     "text": [
      "MSE=-0.00207, MAE=-0.03292\n"
     ]
    }
   ],
   "source": [
    "print(\"MSE={:.5f}, MAE={:.5f}\".format(-score[0], -score[1]))"
   ]
  },
  {
   "cell_type": "markdown",
   "metadata": {},
   "source": [
    "# C) Best model selection"
   ]
  },
  {
   "cell_type": "code",
   "execution_count": 98,
   "metadata": {
    "cell_id": "07c04aca-80b4-4a64-b726-0c7d09572535",
    "tags": []
   },
   "outputs": [],
   "source": [
    "data_all = pd.read_csv(\"timeseries_all.csv\", sep = \";\")\n",
    "\n",
    "data_test = pd.read_csv(\"timeseries_test.csv\", sep = \";\")"
   ]
  },
  {
   "cell_type": "code",
   "execution_count": 99,
   "metadata": {},
   "outputs": [
    {
     "data": {
      "text/plain": [
       "0     NaN\n",
       "1     NaN\n",
       "2     NaN\n",
       "3     NaN\n",
       "4     NaN\n",
       "       ..\n",
       "118   NaN\n",
       "119   NaN\n",
       "120   NaN\n",
       "121   NaN\n",
       "122   NaN\n",
       "Name: csp, Length: 123, dtype: float64"
      ]
     },
     "execution_count": 99,
     "metadata": {},
     "output_type": "execute_result"
    }
   ],
   "source": [
    "data_test['csp']"
   ]
  },
  {
   "cell_type": "code",
   "execution_count": 100,
   "metadata": {
    "cell_id": "e767b474-0dc7-4bb4-ab7d-582b0c7d01af",
    "tags": []
   },
   "outputs": [],
   "source": [
    "# dropping the same columns as the train set\n",
    "data_test = data_test.drop(columns_to_drop, axis = 1)"
   ]
  },
  {
   "cell_type": "code",
   "execution_count": 101,
   "metadata": {},
   "outputs": [],
   "source": [
    "# dropping also the target variable and this'csp' that has all NaNs \n",
    "data_test = data_test.drop([\"Unnamed: 162\", \"csp\"], axis = 1)"
   ]
  },
  {
   "cell_type": "code",
   "execution_count": 102,
   "metadata": {
    "cell_id": "3fe3b65b-5662-4669-bbb7-f442f0be7368",
    "tags": []
   },
   "outputs": [],
   "source": [
    "# filling with the mean\n",
    "data_test.fillna(data_test.mean(), inplace = True)"
   ]
  },
  {
   "cell_type": "code",
   "execution_count": 103,
   "metadata": {
    "cell_id": "3a0d6b0c-51c9-4f94-86e4-5dbf9e4cd49d",
    "tags": []
   },
   "outputs": [
    {
     "data": {
      "text/plain": [
       "0"
      ]
     },
     "execution_count": 103,
     "metadata": {},
     "output_type": "execute_result"
    }
   ],
   "source": [
    "data_test.isna().any().sum()"
   ]
  },
  {
   "cell_type": "code",
   "execution_count": 110,
   "metadata": {
    "cell_id": "c186ea53-2f27-4fd3-8b70-be20dd7779e8",
    "tags": []
   },
   "outputs": [],
   "source": [
    "data_test['HWI'] = data_test['HWI'].astype(float)\n",
    "\n",
    "x_TEST = data_test.select_dtypes(include = 'float64')\n",
    "\n",
    "# scaling\n",
    "x_TEST_scaled = sc.fit_transform(x_TEST)\n",
    "\n",
    "# transforming for polynomial\n",
    "x_TEST_poly = poly.fit_transform(x_TEST_scaled)\n",
    "\n",
    "# selecting the target variable to compare\n",
    "y_TEST = data_all.iloc[480:603, -1]"
   ]
  },
  {
   "cell_type": "markdown",
   "metadata": {},
   "source": [
    "## Next I will predict to evaluate the MSE"
   ]
  },
  {
   "cell_type": "code",
   "execution_count": 111,
   "metadata": {
    "cell_id": "37d98c50-7b09-4f3f-803e-5e7a54e5a14f",
    "tags": []
   },
   "outputs": [
    {
     "name": "stdout",
     "output_type": "stream",
     "text": [
      "123/123 [==============================] - ETA:  - 0s 996us/step\n"
     ]
    }
   ],
   "source": [
    "# gridsearch with ridge\n",
    "y_pred_gr = grid_rid.predict(x_TEST_scaled)\n",
    "mse_gr = mean_squared_error(y_TEST, y_pred_gr)\n",
    "\n",
    "# gridsearch with lasso\n",
    "y_pred_gl = grid_las.predict(x_TEST_scaled)\n",
    "mse_gl = mean_squared_error(y_TEST, y_pred_gl)\n",
    "\n",
    "# gridsearch with elasticnet\n",
    "y_pred_ge = grid_enet.predict(x_TEST_scaled)\n",
    "mse_ge = mean_squared_error(y_TEST, y_pred_ge)\n",
    "\n",
    "#gridsearch with elasticnet using polynomial features\n",
    "y_pred_gp = grid_poly.predict(x_TEST_poly)\n",
    "mse_gp = mean_squared_error(y_TEST, y_pred_gp)\n",
    "\n",
    "#gridserch with decision tree\n",
    "y_pred_gd = grid_dt.predict(x_TEST_scaled)\n",
    "mse_gd = mean_squared_error(y_TEST, y_pred_gd)\n",
    "\n",
    "# gridsearch with randomforest \n",
    "y_pred_grf = grid_rf.predict(x_TEST_scaled)\n",
    "mse_grf = mean_squared_error(y_TEST, y_pred_grf)\n",
    "\n",
    "# neural networks\n",
    "score = regressor.evaluate(x_TEST_scaled, y_TEST, verbose=1)\n",
    "mse_nn = score[0]"
   ]
  },
  {
   "cell_type": "code",
   "execution_count": 114,
   "metadata": {},
   "outputs": [
    {
     "name": "stdout",
     "output_type": "stream",
     "text": [
      "MSE(GridSearch with Ridge):                    0.045464\n",
      "MSE(GridSearch with Lasso):                    0.036397\n",
      "MSE(GridSearch with ElasticNet):               0.000855\n",
      "MSE(GridSearch with ElasticNet(PolyFeatures)): 0.045464\n",
      "MSE(GridSearch with DecisionTree):             0.001515\n",
      "MSE(GridSearch with RandomForest):             0.000861\n",
      "MSE(Neural Network):                           0.002043\n"
     ]
    }
   ],
   "source": [
    "print(\"MSE(GridSearch with Ridge): {:>27.6f}\".format(mse_gr))\n",
    "print(\"MSE(GridSearch with Lasso): {:>27.6f}\".format(mse_gl))\n",
    "print(\"MSE(GridSearch with ElasticNet): {:>22.6f}\".format(mse_ge))\n",
    "print(\"MSE(GridSearch with ElasticNet(PolyFeatures)): {:.6f}\".format(mse_gr))\n",
    "print(\"MSE(GridSearch with DecisionTree): {:>20.6f}\".format(mse_gd))\n",
    "print(\"MSE(GridSearch with RandomForest): {:>20.6f}\".format(mse_grf))\n",
    "print(\"MSE(Neural Network): {:>34.6f}\".format(mse_nn))"
   ]
  },
  {
   "cell_type": "markdown",
   "metadata": {},
   "source": [
    "## The best model are: Gridsearch with ElasticNet and Random Forest\n",
    "### I will plot the result for the best one, that is the Gridsearch "
   ]
  },
  {
   "cell_type": "code",
   "execution_count": 115,
   "metadata": {},
   "outputs": [],
   "source": [
    "data_test['dates'] = pd.to_datetime(data_test['dates'])"
   ]
  },
  {
   "cell_type": "code",
   "execution_count": 124,
   "metadata": {},
   "outputs": [
    {
     "data": {
      "text/plain": [
       "<matplotlib.legend.Legend at 0x241630fd0c8>"
      ]
     },
     "execution_count": 124,
     "metadata": {},
     "output_type": "execute_result"
    },
    {
     "data": {
      "image/png": "[encoded data removed]",
      "text/plain": [
       "<Figure size 1080x432 with 1 Axes>"
      ]
     },
     "metadata": {
      "needs_background": "light"
     },
     "output_type": "display_data"
    }
   ],
   "source": [
    "\n",
    "plt.figure().set_size_inches(15, 6)\n",
    "line_pred, = plt.plot(data_test['dates'], y_pred_ge, color = 'red', lw = 5)\n",
    "line_true, = plt.plot(data_test['dates'], y_TEST, lw = 5)\n",
    "plt.grid()\n",
    "\n",
    "plt.ylabel('SP500 monthly return rate')\n",
    "plt.xlabel('Date')\n",
    "plt.title('Prediction')\n",
    "plt.legend([line_pred, line_true], ['Predicted', 'Real'])"
   ]
  },
  {
   "cell_type": "markdown",
   "metadata": {},
   "source": [
    "## Let's see if with our model we could have made some money "
   ]
  },
  {
   "cell_type": "code",
   "execution_count": 125,
   "metadata": {},
   "outputs": [],
   "source": [
    "tot = 1"
   ]
  },
  {
   "cell_type": "code",
   "execution_count": 123,
   "metadata": {},
   "outputs": [
    {
     "data": {
      "text/plain": [
       "3.185976193888734"
      ]
     },
     "execution_count": 123,
     "metadata": {},
     "output_type": "execute_result"
    }
   ],
   "source": [
    "\n",
    "for i in y_pred_ge:\n",
    "    return_per_month = tot*i\n",
    "    tot = tot + return_per_month\n",
    "tot"
   ]
  },
  {
   "cell_type": "markdown",
   "metadata": {},
   "source": [
    "## So we would have obtained a $318\\%$ gain for every euro invested!\n",
    "\n",
    "#### Probably there is a feature(S&P 500, S&P 500 PE Ratio) that helps too much the algorithms "
   ]
  },
  {
   "cell_type": "code",
   "execution_count": 166,
   "metadata": {},
   "outputs": [
    {
     "data": {
      "text/plain": [
       "2.827406442318841"
      ]
     },
     "execution_count": 166,
     "metadata": {},
     "output_type": "execute_result"
    }
   ],
   "source": [
    "# This is the real one\n",
    "for i in y_TEST:\n",
    "    return_per_month = tot*i\n",
    "    tot = tot + return_per_month\n",
    "tot"
   ]
  }
 ],
 "metadata": {
  "deepnote_execution_queue": [],
  "deepnote_notebook_id": "d769e9fc-0bce-4f48-b008-3d707ff4f653",
  "kernelspec": {
   "display_name": "Python 3",
   "language": "python",
   "name": "python3"
  },
  "language_info": {
   "codemirror_mode": {
    "name": "ipython",
    "version": 3
   },
   "file_extension": ".py",
   "mimetype": "text/x-python",
   "name": "python",
   "nbconvert_exporter": "python",
   "pygments_lexer": "ipython3",
   "version": "3.7.6"
  }
 },
 "nbformat": 4,
 "nbformat_minor": 2
}
